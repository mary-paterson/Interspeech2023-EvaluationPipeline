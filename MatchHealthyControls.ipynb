{
 "cells": [
  {
   "cell_type": "markdown",
   "id": "b1d5f01d",
   "metadata": {},
   "source": [
    "# Propensity score matching\n",
    "Split the cancer patients into test and train sets"
   ]
  },
  {
   "cell_type": "code",
   "execution_count": 1,
   "id": "ac5dc3c1",
   "metadata": {},
   "outputs": [],
   "source": [
    "import pandas as pd\n",
    "from sklearn.model_selection import train_test_split"
   ]
  },
  {
   "cell_type": "code",
   "execution_count": 2,
   "id": "1d59b701",
   "metadata": {
    "scrolled": true
   },
   "outputs": [
    {
     "name": "stdout",
     "output_type": "stream",
     "text": [
      "(38, 7)\n"
     ]
    },
    {
     "data": {
      "text/html": [
       "<div>\n",
       "<style scoped>\n",
       "    .dataframe tbody tr th:only-of-type {\n",
       "        vertical-align: middle;\n",
       "    }\n",
       "\n",
       "    .dataframe tbody tr th {\n",
       "        vertical-align: top;\n",
       "    }\n",
       "\n",
       "    .dataframe thead th {\n",
       "        text-align: right;\n",
       "    }\n",
       "</style>\n",
       "<table border=\"1\" class=\"dataframe\">\n",
       "  <thead>\n",
       "    <tr style=\"text-align: right;\">\n",
       "      <th></th>\n",
       "      <th>RecordingID</th>\n",
       "      <th>Type</th>\n",
       "      <th>Date</th>\n",
       "      <th>SubjectID</th>\n",
       "      <th>Sex</th>\n",
       "      <th>Age</th>\n",
       "      <th>Pathology</th>\n",
       "    </tr>\n",
       "  </thead>\n",
       "  <tbody>\n",
       "    <tr>\n",
       "      <th>0</th>\n",
       "      <td>110</td>\n",
       "      <td>p</td>\n",
       "      <td>21/01/1998</td>\n",
       "      <td>1307</td>\n",
       "      <td>m</td>\n",
       "      <td>62</td>\n",
       "      <td>Vocal cord cancer</td>\n",
       "    </tr>\n",
       "    <tr>\n",
       "      <th>1</th>\n",
       "      <td>500</td>\n",
       "      <td>p</td>\n",
       "      <td>22/04/1998</td>\n",
       "      <td>1373</td>\n",
       "      <td>m</td>\n",
       "      <td>44</td>\n",
       "      <td>Vocal cord cancer</td>\n",
       "    </tr>\n",
       "    <tr>\n",
       "      <th>2</th>\n",
       "      <td>731</td>\n",
       "      <td>p</td>\n",
       "      <td>28/05/1998</td>\n",
       "      <td>1423</td>\n",
       "      <td>m</td>\n",
       "      <td>66</td>\n",
       "      <td>Hypopharyngeal tumor</td>\n",
       "    </tr>\n",
       "    <tr>\n",
       "      <th>3</th>\n",
       "      <td>742</td>\n",
       "      <td>p</td>\n",
       "      <td>29/05/1998</td>\n",
       "      <td>1425</td>\n",
       "      <td>m</td>\n",
       "      <td>43</td>\n",
       "      <td>Vocal cord cancer</td>\n",
       "    </tr>\n",
       "    <tr>\n",
       "      <th>4</th>\n",
       "      <td>820</td>\n",
       "      <td>p</td>\n",
       "      <td>24/06/1998</td>\n",
       "      <td>1432</td>\n",
       "      <td>m</td>\n",
       "      <td>69</td>\n",
       "      <td>Dysplastic larynx</td>\n",
       "    </tr>\n",
       "  </tbody>\n",
       "</table>\n",
       "</div>"
      ],
      "text/plain": [
       "   RecordingID Type        Date  SubjectID Sex  Age             Pathology\n",
       "0          110    p  21/01/1998       1307   m   62     Vocal cord cancer\n",
       "1          500    p  22/04/1998       1373   m   44     Vocal cord cancer\n",
       "2          731    p  28/05/1998       1423   m   66  Hypopharyngeal tumor\n",
       "3          742    p  29/05/1998       1425   m   43     Vocal cord cancer\n",
       "4          820    p  24/06/1998       1432   m   69     Dysplastic larynx"
      ]
     },
     "execution_count": 2,
     "metadata": {},
     "output_type": "execute_result"
    }
   ],
   "source": [
    "path_meta = pd.read_csv(\"C://Users//maryp//OneDrive//Documents//CDT//Year3//DenoisingPaper//MetaData.csv\")\n",
    "print(path_meta.shape)\n",
    "path_meta.head()"
   ]
  },
  {
   "cell_type": "markdown",
   "id": "04a38d2f",
   "metadata": {},
   "source": [
    "PSM"
   ]
  },
  {
   "cell_type": "code",
   "execution_count": 3,
   "id": "005e0f08",
   "metadata": {},
   "outputs": [
    {
     "name": "stdout",
     "output_type": "stream",
     "text": [
      "(687, 6)\n"
     ]
    },
    {
     "data": {
      "text/html": [
       "<div>\n",
       "<style scoped>\n",
       "    .dataframe tbody tr th:only-of-type {\n",
       "        vertical-align: middle;\n",
       "    }\n",
       "\n",
       "    .dataframe tbody tr th {\n",
       "        vertical-align: top;\n",
       "    }\n",
       "\n",
       "    .dataframe thead th {\n",
       "        text-align: right;\n",
       "    }\n",
       "</style>\n",
       "<table border=\"1\" class=\"dataframe\">\n",
       "  <thead>\n",
       "    <tr style=\"text-align: right;\">\n",
       "      <th></th>\n",
       "      <th>RecordingID</th>\n",
       "      <th>Type</th>\n",
       "      <th>Date</th>\n",
       "      <th>SubjectID</th>\n",
       "      <th>Sex</th>\n",
       "      <th>Age</th>\n",
       "    </tr>\n",
       "  </thead>\n",
       "  <tbody>\n",
       "    <tr>\n",
       "      <th>0</th>\n",
       "      <td>1543</td>\n",
       "      <td>n</td>\n",
       "      <td>26/11/1999</td>\n",
       "      <td>1024</td>\n",
       "      <td>w</td>\n",
       "      <td>9</td>\n",
       "    </tr>\n",
       "    <tr>\n",
       "      <th>10</th>\n",
       "      <td>803</td>\n",
       "      <td>n</td>\n",
       "      <td>09/06/1998</td>\n",
       "      <td>707</td>\n",
       "      <td>m</td>\n",
       "      <td>16</td>\n",
       "    </tr>\n",
       "    <tr>\n",
       "      <th>11</th>\n",
       "      <td>807</td>\n",
       "      <td>n</td>\n",
       "      <td>09/06/1998</td>\n",
       "      <td>711</td>\n",
       "      <td>m</td>\n",
       "      <td>16</td>\n",
       "    </tr>\n",
       "    <tr>\n",
       "      <th>12</th>\n",
       "      <td>808</td>\n",
       "      <td>n</td>\n",
       "      <td>09/06/1998</td>\n",
       "      <td>712</td>\n",
       "      <td>m</td>\n",
       "      <td>16</td>\n",
       "    </tr>\n",
       "    <tr>\n",
       "      <th>13</th>\n",
       "      <td>835</td>\n",
       "      <td>n</td>\n",
       "      <td>25/06/1998</td>\n",
       "      <td>722</td>\n",
       "      <td>w</td>\n",
       "      <td>16</td>\n",
       "    </tr>\n",
       "  </tbody>\n",
       "</table>\n",
       "</div>"
      ],
      "text/plain": [
       "    RecordingID Type        Date  SubjectID Sex  Age\n",
       "0          1543    n  26/11/1999       1024   w    9\n",
       "10          803    n  09/06/1998        707   m   16\n",
       "11          807    n  09/06/1998        711   m   16\n",
       "12          808    n  09/06/1998        712   m   16\n",
       "13          835    n  25/06/1998        722   w   16"
      ]
     },
     "execution_count": 3,
     "metadata": {},
     "output_type": "execute_result"
    }
   ],
   "source": [
    "healthy_meta = pd.read_csv(\"C://Users//maryp//OneDrive//Documents//Python//Year3//Denoising//healthy_meta.csv\", index_col=0)\n",
    "healthy_meta = healthy_meta.drop_duplicates()\n",
    "print(healthy_meta.shape)\n",
    "healthy_meta.head()"
   ]
  },
  {
   "cell_type": "code",
   "execution_count": 4,
   "id": "0a4ed01b",
   "metadata": {},
   "outputs": [
    {
     "name": "stdout",
     "output_type": "stream",
     "text": [
      "(725, 7)\n"
     ]
    },
    {
     "data": {
      "text/html": [
       "<div>\n",
       "<style scoped>\n",
       "    .dataframe tbody tr th:only-of-type {\n",
       "        vertical-align: middle;\n",
       "    }\n",
       "\n",
       "    .dataframe tbody tr th {\n",
       "        vertical-align: top;\n",
       "    }\n",
       "\n",
       "    .dataframe thead th {\n",
       "        text-align: right;\n",
       "    }\n",
       "</style>\n",
       "<table border=\"1\" class=\"dataframe\">\n",
       "  <thead>\n",
       "    <tr style=\"text-align: right;\">\n",
       "      <th></th>\n",
       "      <th>RecordingID</th>\n",
       "      <th>Type</th>\n",
       "      <th>Date</th>\n",
       "      <th>SubjectID</th>\n",
       "      <th>Sex</th>\n",
       "      <th>Age</th>\n",
       "      <th>Pathology</th>\n",
       "    </tr>\n",
       "  </thead>\n",
       "  <tbody>\n",
       "    <tr>\n",
       "      <th>0</th>\n",
       "      <td>110</td>\n",
       "      <td>p</td>\n",
       "      <td>21/01/1998</td>\n",
       "      <td>1307</td>\n",
       "      <td>m</td>\n",
       "      <td>62</td>\n",
       "      <td>Vocal cord cancer</td>\n",
       "    </tr>\n",
       "    <tr>\n",
       "      <th>1</th>\n",
       "      <td>500</td>\n",
       "      <td>p</td>\n",
       "      <td>22/04/1998</td>\n",
       "      <td>1373</td>\n",
       "      <td>m</td>\n",
       "      <td>44</td>\n",
       "      <td>Vocal cord cancer</td>\n",
       "    </tr>\n",
       "    <tr>\n",
       "      <th>2</th>\n",
       "      <td>731</td>\n",
       "      <td>p</td>\n",
       "      <td>28/05/1998</td>\n",
       "      <td>1423</td>\n",
       "      <td>m</td>\n",
       "      <td>66</td>\n",
       "      <td>Hypopharyngeal tumor</td>\n",
       "    </tr>\n",
       "    <tr>\n",
       "      <th>3</th>\n",
       "      <td>742</td>\n",
       "      <td>p</td>\n",
       "      <td>29/05/1998</td>\n",
       "      <td>1425</td>\n",
       "      <td>m</td>\n",
       "      <td>43</td>\n",
       "      <td>Vocal cord cancer</td>\n",
       "    </tr>\n",
       "    <tr>\n",
       "      <th>4</th>\n",
       "      <td>820</td>\n",
       "      <td>p</td>\n",
       "      <td>24/06/1998</td>\n",
       "      <td>1432</td>\n",
       "      <td>m</td>\n",
       "      <td>69</td>\n",
       "      <td>Dysplastic larynx</td>\n",
       "    </tr>\n",
       "  </tbody>\n",
       "</table>\n",
       "</div>"
      ],
      "text/plain": [
       "   RecordingID Type        Date  SubjectID Sex  Age             Pathology\n",
       "0          110    p  21/01/1998       1307   m   62     Vocal cord cancer\n",
       "1          500    p  22/04/1998       1373   m   44     Vocal cord cancer\n",
       "2          731    p  28/05/1998       1423   m   66  Hypopharyngeal tumor\n",
       "3          742    p  29/05/1998       1425   m   43     Vocal cord cancer\n",
       "4          820    p  24/06/1998       1432   m   69     Dysplastic larynx"
      ]
     },
     "execution_count": 4,
     "metadata": {},
     "output_type": "execute_result"
    }
   ],
   "source": [
    "df = pd.concat([path_meta, healthy_meta])\n",
    "print(df.shape)\n",
    "df.head()"
   ]
  },
  {
   "cell_type": "code",
   "execution_count": 5,
   "id": "3bc10f04",
   "metadata": {},
   "outputs": [],
   "source": [
    "df['Type'] = df['Type'].map({'p': 1, 'n': 0})\n",
    "df['Sex'] = df['Sex'].map({'m': 1, 'w': 0})"
   ]
  },
  {
   "cell_type": "code",
   "execution_count": 6,
   "id": "b0c18f82",
   "metadata": {},
   "outputs": [
    {
     "data": {
      "text/html": [
       "<div>\n",
       "<style scoped>\n",
       "    .dataframe tbody tr th:only-of-type {\n",
       "        vertical-align: middle;\n",
       "    }\n",
       "\n",
       "    .dataframe tbody tr th {\n",
       "        vertical-align: top;\n",
       "    }\n",
       "\n",
       "    .dataframe thead th {\n",
       "        text-align: right;\n",
       "    }\n",
       "</style>\n",
       "<table border=\"1\" class=\"dataframe\">\n",
       "  <thead>\n",
       "    <tr style=\"text-align: right;\">\n",
       "      <th></th>\n",
       "      <th>RecordingID</th>\n",
       "      <th>Type</th>\n",
       "      <th>Date</th>\n",
       "      <th>SubjectID</th>\n",
       "      <th>Sex</th>\n",
       "      <th>Age</th>\n",
       "      <th>Pathology</th>\n",
       "    </tr>\n",
       "  </thead>\n",
       "  <tbody>\n",
       "    <tr>\n",
       "      <th>0</th>\n",
       "      <td>110</td>\n",
       "      <td>1</td>\n",
       "      <td>21/01/1998</td>\n",
       "      <td>1307</td>\n",
       "      <td>1</td>\n",
       "      <td>62</td>\n",
       "      <td>Vocal cord cancer</td>\n",
       "    </tr>\n",
       "    <tr>\n",
       "      <th>1</th>\n",
       "      <td>500</td>\n",
       "      <td>1</td>\n",
       "      <td>22/04/1998</td>\n",
       "      <td>1373</td>\n",
       "      <td>1</td>\n",
       "      <td>44</td>\n",
       "      <td>Vocal cord cancer</td>\n",
       "    </tr>\n",
       "    <tr>\n",
       "      <th>2</th>\n",
       "      <td>731</td>\n",
       "      <td>1</td>\n",
       "      <td>28/05/1998</td>\n",
       "      <td>1423</td>\n",
       "      <td>1</td>\n",
       "      <td>66</td>\n",
       "      <td>Hypopharyngeal tumor</td>\n",
       "    </tr>\n",
       "    <tr>\n",
       "      <th>3</th>\n",
       "      <td>742</td>\n",
       "      <td>1</td>\n",
       "      <td>29/05/1998</td>\n",
       "      <td>1425</td>\n",
       "      <td>1</td>\n",
       "      <td>43</td>\n",
       "      <td>Vocal cord cancer</td>\n",
       "    </tr>\n",
       "    <tr>\n",
       "      <th>4</th>\n",
       "      <td>820</td>\n",
       "      <td>1</td>\n",
       "      <td>24/06/1998</td>\n",
       "      <td>1432</td>\n",
       "      <td>1</td>\n",
       "      <td>69</td>\n",
       "      <td>Dysplastic larynx</td>\n",
       "    </tr>\n",
       "  </tbody>\n",
       "</table>\n",
       "</div>"
      ],
      "text/plain": [
       "   RecordingID  Type        Date  SubjectID  Sex  Age             Pathology\n",
       "0          110     1  21/01/1998       1307    1   62     Vocal cord cancer\n",
       "1          500     1  22/04/1998       1373    1   44     Vocal cord cancer\n",
       "2          731     1  28/05/1998       1423    1   66  Hypopharyngeal tumor\n",
       "3          742     1  29/05/1998       1425    1   43     Vocal cord cancer\n",
       "4          820     1  24/06/1998       1432    1   69     Dysplastic larynx"
      ]
     },
     "execution_count": 6,
     "metadata": {},
     "output_type": "execute_result"
    }
   ],
   "source": [
    "df.head()"
   ]
  },
  {
   "cell_type": "code",
   "execution_count": 8,
   "id": "e44aa157",
   "metadata": {},
   "outputs": [],
   "source": [
    "from psmpy import PsmPy\n",
    "from psmpy.functions import cohenD\n",
    "from psmpy.plotting import *"
   ]
  },
  {
   "cell_type": "code",
   "execution_count": 9,
   "id": "a37c64b4",
   "metadata": {},
   "outputs": [],
   "source": [
    "psm = PsmPy(df, treatment='Type', indx='RecordingID', exclude = ['Date', 'SubjectID', 'Pathology'])"
   ]
  },
  {
   "cell_type": "code",
   "execution_count": 10,
   "id": "92899c36",
   "metadata": {},
   "outputs": [],
   "source": [
    "psm.logistic_ps(balance = False)"
   ]
  },
  {
   "cell_type": "code",
   "execution_count": 11,
   "id": "d807e754",
   "metadata": {},
   "outputs": [
    {
     "data": {
      "text/html": [
       "<div>\n",
       "<style scoped>\n",
       "    .dataframe tbody tr th:only-of-type {\n",
       "        vertical-align: middle;\n",
       "    }\n",
       "\n",
       "    .dataframe tbody tr th {\n",
       "        vertical-align: top;\n",
       "    }\n",
       "\n",
       "    .dataframe thead th {\n",
       "        text-align: right;\n",
       "    }\n",
       "</style>\n",
       "<table border=\"1\" class=\"dataframe\">\n",
       "  <thead>\n",
       "    <tr style=\"text-align: right;\">\n",
       "      <th></th>\n",
       "      <th>RecordingID</th>\n",
       "      <th>Sex</th>\n",
       "      <th>Age</th>\n",
       "      <th>propensity_score</th>\n",
       "      <th>propensity_logit</th>\n",
       "      <th>Type</th>\n",
       "    </tr>\n",
       "  </thead>\n",
       "  <tbody>\n",
       "    <tr>\n",
       "      <th>0</th>\n",
       "      <td>1543</td>\n",
       "      <td>0</td>\n",
       "      <td>9</td>\n",
       "      <td>0.003549</td>\n",
       "      <td>-5.637561</td>\n",
       "      <td>0</td>\n",
       "    </tr>\n",
       "    <tr>\n",
       "      <th>1</th>\n",
       "      <td>803</td>\n",
       "      <td>1</td>\n",
       "      <td>16</td>\n",
       "      <td>0.017206</td>\n",
       "      <td>-4.045121</td>\n",
       "      <td>0</td>\n",
       "    </tr>\n",
       "    <tr>\n",
       "      <th>2</th>\n",
       "      <td>807</td>\n",
       "      <td>1</td>\n",
       "      <td>16</td>\n",
       "      <td>0.017206</td>\n",
       "      <td>-4.045121</td>\n",
       "      <td>0</td>\n",
       "    </tr>\n",
       "    <tr>\n",
       "      <th>3</th>\n",
       "      <td>808</td>\n",
       "      <td>1</td>\n",
       "      <td>16</td>\n",
       "      <td>0.017206</td>\n",
       "      <td>-4.045121</td>\n",
       "      <td>0</td>\n",
       "    </tr>\n",
       "    <tr>\n",
       "      <th>4</th>\n",
       "      <td>835</td>\n",
       "      <td>0</td>\n",
       "      <td>16</td>\n",
       "      <td>0.006157</td>\n",
       "      <td>-5.084040</td>\n",
       "      <td>0</td>\n",
       "    </tr>\n",
       "    <tr>\n",
       "      <th>...</th>\n",
       "      <td>...</td>\n",
       "      <td>...</td>\n",
       "      <td>...</td>\n",
       "      <td>...</td>\n",
       "      <td>...</td>\n",
       "      <td>...</td>\n",
       "    </tr>\n",
       "    <tr>\n",
       "      <th>720</th>\n",
       "      <td>1968</td>\n",
       "      <td>0</td>\n",
       "      <td>58</td>\n",
       "      <td>0.146425</td>\n",
       "      <td>-1.762917</td>\n",
       "      <td>1</td>\n",
       "    </tr>\n",
       "    <tr>\n",
       "      <th>721</th>\n",
       "      <td>2069</td>\n",
       "      <td>1</td>\n",
       "      <td>51</td>\n",
       "      <td>0.217973</td>\n",
       "      <td>-1.277518</td>\n",
       "      <td>1</td>\n",
       "    </tr>\n",
       "    <tr>\n",
       "      <th>722</th>\n",
       "      <td>2343</td>\n",
       "      <td>1</td>\n",
       "      <td>75</td>\n",
       "      <td>0.650279</td>\n",
       "      <td>0.620267</td>\n",
       "      <td>1</td>\n",
       "    </tr>\n",
       "    <tr>\n",
       "      <th>723</th>\n",
       "      <td>2402</td>\n",
       "      <td>1</td>\n",
       "      <td>71</td>\n",
       "      <td>0.575413</td>\n",
       "      <td>0.303969</td>\n",
       "      <td>1</td>\n",
       "    </tr>\n",
       "    <tr>\n",
       "      <th>724</th>\n",
       "      <td>2467</td>\n",
       "      <td>1</td>\n",
       "      <td>71</td>\n",
       "      <td>0.575413</td>\n",
       "      <td>0.303969</td>\n",
       "      <td>1</td>\n",
       "    </tr>\n",
       "  </tbody>\n",
       "</table>\n",
       "<p>725 rows × 6 columns</p>\n",
       "</div>"
      ],
      "text/plain": [
       "     RecordingID  Sex  Age  propensity_score  propensity_logit  Type\n",
       "0           1543    0    9          0.003549         -5.637561     0\n",
       "1            803    1   16          0.017206         -4.045121     0\n",
       "2            807    1   16          0.017206         -4.045121     0\n",
       "3            808    1   16          0.017206         -4.045121     0\n",
       "4            835    0   16          0.006157         -5.084040     0\n",
       "..           ...  ...  ...               ...               ...   ...\n",
       "720         1968    0   58          0.146425         -1.762917     1\n",
       "721         2069    1   51          0.217973         -1.277518     1\n",
       "722         2343    1   75          0.650279          0.620267     1\n",
       "723         2402    1   71          0.575413          0.303969     1\n",
       "724         2467    1   71          0.575413          0.303969     1\n",
       "\n",
       "[725 rows x 6 columns]"
      ]
     },
     "execution_count": 11,
     "metadata": {},
     "output_type": "execute_result"
    }
   ],
   "source": [
    "psm.predicted_data"
   ]
  },
  {
   "cell_type": "code",
   "execution_count": 12,
   "id": "93564a2a",
   "metadata": {},
   "outputs": [],
   "source": [
    "psm.knn_matched(matcher='propensity_logit', replacement=False, caliper=None)"
   ]
  },
  {
   "cell_type": "code",
   "execution_count": 13,
   "id": "06f35a90",
   "metadata": {},
   "outputs": [
    {
     "data": {
      "text/html": [
       "<div>\n",
       "<style scoped>\n",
       "    .dataframe tbody tr th:only-of-type {\n",
       "        vertical-align: middle;\n",
       "    }\n",
       "\n",
       "    .dataframe tbody tr th {\n",
       "        vertical-align: top;\n",
       "    }\n",
       "\n",
       "    .dataframe thead th {\n",
       "        text-align: right;\n",
       "    }\n",
       "</style>\n",
       "<table border=\"1\" class=\"dataframe\">\n",
       "  <thead>\n",
       "    <tr style=\"text-align: right;\">\n",
       "      <th></th>\n",
       "      <th>RecordingID</th>\n",
       "      <th>Sex</th>\n",
       "      <th>Age</th>\n",
       "      <th>propensity_score</th>\n",
       "      <th>propensity_logit</th>\n",
       "      <th>Type</th>\n",
       "      <th>matched_ID</th>\n",
       "    </tr>\n",
       "  </thead>\n",
       "  <tbody>\n",
       "    <tr>\n",
       "      <th>0</th>\n",
       "      <td>110</td>\n",
       "      <td>1</td>\n",
       "      <td>62</td>\n",
       "      <td>0.399464</td>\n",
       "      <td>-0.407700</td>\n",
       "      <td>1</td>\n",
       "      <td>90.0</td>\n",
       "    </tr>\n",
       "    <tr>\n",
       "      <th>1</th>\n",
       "      <td>500</td>\n",
       "      <td>1</td>\n",
       "      <td>44</td>\n",
       "      <td>0.138115</td>\n",
       "      <td>-1.831038</td>\n",
       "      <td>1</td>\n",
       "      <td>963.0</td>\n",
       "    </tr>\n",
       "    <tr>\n",
       "      <th>2</th>\n",
       "      <td>731</td>\n",
       "      <td>1</td>\n",
       "      <td>66</td>\n",
       "      <td>0.477165</td>\n",
       "      <td>-0.091402</td>\n",
       "      <td>1</td>\n",
       "      <td>100.0</td>\n",
       "    </tr>\n",
       "    <tr>\n",
       "      <th>3</th>\n",
       "      <td>742</td>\n",
       "      <td>1</td>\n",
       "      <td>43</td>\n",
       "      <td>0.128968</td>\n",
       "      <td>-1.910113</td>\n",
       "      <td>1</td>\n",
       "      <td>1005.0</td>\n",
       "    </tr>\n",
       "    <tr>\n",
       "      <th>4</th>\n",
       "      <td>820</td>\n",
       "      <td>1</td>\n",
       "      <td>69</td>\n",
       "      <td>0.536391</td>\n",
       "      <td>0.145821</td>\n",
       "      <td>1</td>\n",
       "      <td>96.0</td>\n",
       "    </tr>\n",
       "    <tr>\n",
       "      <th>...</th>\n",
       "      <td>...</td>\n",
       "      <td>...</td>\n",
       "      <td>...</td>\n",
       "      <td>...</td>\n",
       "      <td>...</td>\n",
       "      <td>...</td>\n",
       "      <td>...</td>\n",
       "    </tr>\n",
       "    <tr>\n",
       "      <th>71</th>\n",
       "      <td>72</td>\n",
       "      <td>0</td>\n",
       "      <td>58</td>\n",
       "      <td>0.146425</td>\n",
       "      <td>-1.762917</td>\n",
       "      <td>0</td>\n",
       "      <td>NaN</td>\n",
       "    </tr>\n",
       "    <tr>\n",
       "      <th>72</th>\n",
       "      <td>1008</td>\n",
       "      <td>1</td>\n",
       "      <td>50</td>\n",
       "      <td>0.204795</td>\n",
       "      <td>-1.356592</td>\n",
       "      <td>0</td>\n",
       "      <td>NaN</td>\n",
       "    </tr>\n",
       "    <tr>\n",
       "      <th>73</th>\n",
       "      <td>1969</td>\n",
       "      <td>0</td>\n",
       "      <td>63</td>\n",
       "      <td>0.203017</td>\n",
       "      <td>-1.367545</td>\n",
       "      <td>0</td>\n",
       "      <td>NaN</td>\n",
       "    </tr>\n",
       "    <tr>\n",
       "      <th>74</th>\n",
       "      <td>852</td>\n",
       "      <td>0</td>\n",
       "      <td>63</td>\n",
       "      <td>0.203017</td>\n",
       "      <td>-1.367545</td>\n",
       "      <td>0</td>\n",
       "      <td>NaN</td>\n",
       "    </tr>\n",
       "    <tr>\n",
       "      <th>75</th>\n",
       "      <td>77</td>\n",
       "      <td>0</td>\n",
       "      <td>63</td>\n",
       "      <td>0.203017</td>\n",
       "      <td>-1.367545</td>\n",
       "      <td>0</td>\n",
       "      <td>NaN</td>\n",
       "    </tr>\n",
       "  </tbody>\n",
       "</table>\n",
       "<p>76 rows × 7 columns</p>\n",
       "</div>"
      ],
      "text/plain": [
       "    RecordingID  Sex  Age  propensity_score  propensity_logit  Type  \\\n",
       "0           110    1   62          0.399464         -0.407700     1   \n",
       "1           500    1   44          0.138115         -1.831038     1   \n",
       "2           731    1   66          0.477165         -0.091402     1   \n",
       "3           742    1   43          0.128968         -1.910113     1   \n",
       "4           820    1   69          0.536391          0.145821     1   \n",
       "..          ...  ...  ...               ...               ...   ...   \n",
       "71           72    0   58          0.146425         -1.762917     0   \n",
       "72         1008    1   50          0.204795         -1.356592     0   \n",
       "73         1969    0   63          0.203017         -1.367545     0   \n",
       "74          852    0   63          0.203017         -1.367545     0   \n",
       "75           77    0   63          0.203017         -1.367545     0   \n",
       "\n",
       "    matched_ID  \n",
       "0         90.0  \n",
       "1        963.0  \n",
       "2        100.0  \n",
       "3       1005.0  \n",
       "4         96.0  \n",
       "..         ...  \n",
       "71         NaN  \n",
       "72         NaN  \n",
       "73         NaN  \n",
       "74         NaN  \n",
       "75         NaN  \n",
       "\n",
       "[76 rows x 7 columns]"
      ]
     },
     "execution_count": 13,
     "metadata": {},
     "output_type": "execute_result"
    }
   ],
   "source": [
    "psm.df_matched"
   ]
  },
  {
   "cell_type": "code",
   "execution_count": 14,
   "id": "5dac3c03",
   "metadata": {},
   "outputs": [],
   "source": [
    "matched_df = psm.df_matched.copy()"
   ]
  },
  {
   "cell_type": "code",
   "execution_count": 15,
   "id": "cea18dab",
   "metadata": {},
   "outputs": [],
   "source": [
    "matched_df['Type'] = matched_df['Type'].map({1: 'p', 0: 'n'})\n",
    "matched_df['Sex'] = matched_df['Sex'].map({1: 'm', 0: 'w'})"
   ]
  },
  {
   "cell_type": "code",
   "execution_count": 16,
   "id": "331bcab8",
   "metadata": {},
   "outputs": [
    {
     "name": "stdout",
     "output_type": "stream",
     "text": [
      "(76, 7)\n",
      "Sex  Type\n",
      "m    p       35\n",
      "     n       25\n",
      "w    n       13\n",
      "     p        3\n",
      "dtype: int64\n"
     ]
    }
   ],
   "source": [
    "print(matched_df.shape)\n",
    "print(matched_df[['Sex', 'Type']].value_counts())"
   ]
  },
  {
   "cell_type": "code",
   "execution_count": 17,
   "id": "e3d1e0b2",
   "metadata": {},
   "outputs": [
    {
     "name": "stdout",
     "output_type": "stream",
     "text": [
      "(76, 7)\n"
     ]
    },
    {
     "data": {
      "text/html": [
       "<div>\n",
       "<style scoped>\n",
       "    .dataframe tbody tr th:only-of-type {\n",
       "        vertical-align: middle;\n",
       "    }\n",
       "\n",
       "    .dataframe tbody tr th {\n",
       "        vertical-align: top;\n",
       "    }\n",
       "\n",
       "    .dataframe thead th {\n",
       "        text-align: right;\n",
       "    }\n",
       "</style>\n",
       "<table border=\"1\" class=\"dataframe\">\n",
       "  <thead>\n",
       "    <tr style=\"text-align: right;\">\n",
       "      <th></th>\n",
       "      <th>RecordingID</th>\n",
       "      <th>Sex</th>\n",
       "      <th>Age</th>\n",
       "      <th>propensity_score</th>\n",
       "      <th>propensity_logit</th>\n",
       "      <th>Type</th>\n",
       "      <th>matched_ID</th>\n",
       "    </tr>\n",
       "  </thead>\n",
       "  <tbody>\n",
       "    <tr>\n",
       "      <th>0</th>\n",
       "      <td>110</td>\n",
       "      <td>m</td>\n",
       "      <td>62</td>\n",
       "      <td>0.399464</td>\n",
       "      <td>-0.407700</td>\n",
       "      <td>p</td>\n",
       "      <td>90.0</td>\n",
       "    </tr>\n",
       "    <tr>\n",
       "      <th>1</th>\n",
       "      <td>500</td>\n",
       "      <td>m</td>\n",
       "      <td>44</td>\n",
       "      <td>0.138115</td>\n",
       "      <td>-1.831038</td>\n",
       "      <td>p</td>\n",
       "      <td>963.0</td>\n",
       "    </tr>\n",
       "    <tr>\n",
       "      <th>2</th>\n",
       "      <td>731</td>\n",
       "      <td>m</td>\n",
       "      <td>66</td>\n",
       "      <td>0.477165</td>\n",
       "      <td>-0.091402</td>\n",
       "      <td>p</td>\n",
       "      <td>100.0</td>\n",
       "    </tr>\n",
       "    <tr>\n",
       "      <th>3</th>\n",
       "      <td>742</td>\n",
       "      <td>m</td>\n",
       "      <td>43</td>\n",
       "      <td>0.128968</td>\n",
       "      <td>-1.910113</td>\n",
       "      <td>p</td>\n",
       "      <td>1005.0</td>\n",
       "    </tr>\n",
       "    <tr>\n",
       "      <th>4</th>\n",
       "      <td>820</td>\n",
       "      <td>m</td>\n",
       "      <td>69</td>\n",
       "      <td>0.536391</td>\n",
       "      <td>0.145821</td>\n",
       "      <td>p</td>\n",
       "      <td>96.0</td>\n",
       "    </tr>\n",
       "  </tbody>\n",
       "</table>\n",
       "</div>"
      ],
      "text/plain": [
       "   RecordingID Sex  Age  propensity_score  propensity_logit Type  matched_ID\n",
       "0          110   m   62          0.399464         -0.407700    p        90.0\n",
       "1          500   m   44          0.138115         -1.831038    p       963.0\n",
       "2          731   m   66          0.477165         -0.091402    p       100.0\n",
       "3          742   m   43          0.128968         -1.910113    p      1005.0\n",
       "4          820   m   69          0.536391          0.145821    p        96.0"
      ]
     },
     "execution_count": 17,
     "metadata": {},
     "output_type": "execute_result"
    }
   ],
   "source": [
    "print(matched_df.shape)\n",
    "matched_df.head()"
   ]
  },
  {
   "cell_type": "code",
   "execution_count": 18,
   "id": "eef1db96",
   "metadata": {},
   "outputs": [],
   "source": [
    "chosen_healthy = healthy_meta[healthy_meta['RecordingID'].isin(matched_df['RecordingID'])]"
   ]
  },
  {
   "cell_type": "code",
   "execution_count": 19,
   "id": "e9992183",
   "metadata": {},
   "outputs": [],
   "source": [
    "dataset = pd.concat([path_meta, chosen_healthy])"
   ]
  },
  {
   "cell_type": "code",
   "execution_count": 20,
   "id": "2197217b",
   "metadata": {},
   "outputs": [
    {
     "data": {
      "text/plain": [
       "(76, 7)"
      ]
     },
     "execution_count": 20,
     "metadata": {},
     "output_type": "execute_result"
    }
   ],
   "source": [
    "dataset.shape"
   ]
  },
  {
   "cell_type": "code",
   "execution_count": 21,
   "id": "9ff41527",
   "metadata": {},
   "outputs": [
    {
     "data": {
      "text/plain": [
       "[Text(1, 0, 'healthy'), Text(2, 0, 'cancer')]"
      ]
     },
     "execution_count": 21,
     "metadata": {},
     "output_type": "execute_result"
    },
    {
     "data": {
      "image/png": "[encoded data removed]",
      "text/plain": [
       "<Figure size 1000x1000 with 1 Axes>"
      ]
     },
     "metadata": {},
     "output_type": "display_data"
    }
   ],
   "source": [
    "ax = dataset.boxplot('Age', by='Type', fontsize=22, figsize=(10, 10))\n",
    "ax.set_ylabel('Age (years)', fontsize=24)\n",
    "ax.set_xlabel('Group', fontsize=24)\n",
    "ax.set_title('Age distributions of the healthy and cancer groups after matching', fontsize=24)\n",
    "ax.set_xticklabels(['healthy', 'cancer'])"
   ]
  },
  {
   "cell_type": "code",
   "execution_count": 22,
   "id": "057d977e",
   "metadata": {},
   "outputs": [
    {
     "data": {
      "text/plain": [
       "[Text(1, 0, 'healthy'), Text(2, 0, 'cancer')]"
      ]
     },
     "execution_count": 22,
     "metadata": {},
     "output_type": "execute_result"
    },
    {
     "data": {
      "image/png": "[encoded data removed]",
      "text/plain": [
       "<Figure size 1000x1000 with 1 Axes>"
      ]
     },
     "metadata": {},
     "output_type": "display_data"
    }
   ],
   "source": [
    "ax = df.boxplot('Age', by='Type', fontsize=22, figsize=(10, 10))\n",
    "ax.set_ylabel('Age (years)', fontsize=24)\n",
    "ax.set_xlabel('Group', fontsize=24)\n",
    "ax.set_title('Age distributions of the healthy and cancer groups before matching', fontsize=24)\n",
    "ax.set_xticklabels(['healthy', 'cancer'])"
   ]
  },
  {
   "cell_type": "code",
   "execution_count": 24,
   "id": "c07e77db",
   "metadata": {},
   "outputs": [
    {
     "data": {
      "text/plain": [
       "59.10526315789474"
      ]
     },
     "execution_count": 24,
     "metadata": {},
     "output_type": "execute_result"
    }
   ],
   "source": [
    "np.mean(dataset[dataset['Type']=='p']['Age'])"
   ]
  },
  {
   "cell_type": "code",
   "execution_count": 25,
   "id": "2c98026b",
   "metadata": {},
   "outputs": [],
   "source": [
    "dataset.to_csv('MatchedData.csv')"
   ]
  },
  {
   "cell_type": "markdown",
   "id": "051b6d60",
   "metadata": {},
   "source": [
    "# Split Test and Train"
   ]
  },
  {
   "cell_type": "code",
   "execution_count": 23,
   "id": "1b343ae5",
   "metadata": {},
   "outputs": [],
   "source": [
    "dataset['Pathology'] = dataset['Pathology'].fillna('Healthy')"
   ]
  },
  {
   "cell_type": "code",
   "execution_count": 24,
   "id": "628e0379",
   "metadata": {},
   "outputs": [],
   "source": [
    "X_train, X_test = train_test_split(dataset, test_size=0.3, random_state=42)\n",
    "X_train = X_train.reset_index(drop=True)\n",
    "X_test = X_test.reset_index(drop=True)"
   ]
  },
  {
   "cell_type": "code",
   "execution_count": 25,
   "id": "c81df093",
   "metadata": {},
   "outputs": [
    {
     "data": {
      "text/plain": [
       "(53, 7)"
      ]
     },
     "execution_count": 25,
     "metadata": {},
     "output_type": "execute_result"
    }
   ],
   "source": [
    "X_train.shape"
   ]
  },
  {
   "cell_type": "code",
   "execution_count": 26,
   "id": "ad44fd9b",
   "metadata": {},
   "outputs": [
    {
     "data": {
      "text/plain": [
       "(23, 7)"
      ]
     },
     "execution_count": 26,
     "metadata": {},
     "output_type": "execute_result"
    }
   ],
   "source": [
    "X_test.shape"
   ]
  },
  {
   "cell_type": "code",
   "execution_count": 27,
   "id": "def8bb00",
   "metadata": {},
   "outputs": [
    {
     "data": {
      "text/plain": [
       "Sex  Pathology           \n",
       "m    Healthy                 18\n",
       "     Vocal cord cancer       16\n",
       "w    Healthy                 10\n",
       "m    Hypopharyngeal tumor     5\n",
       "     Dysplastic dysphonia     1\n",
       "     Larynx tumor             1\n",
       "     Mesopharyngeal tumor     1\n",
       "w    Epiglottic cancer        1\n",
       "dtype: int64"
      ]
     },
     "execution_count": 27,
     "metadata": {},
     "output_type": "execute_result"
    }
   ],
   "source": [
    "X_train[['Sex', 'Pathology']].value_counts()"
   ]
  },
  {
   "cell_type": "code",
   "execution_count": 28,
   "id": "0d5bedb2",
   "metadata": {},
   "outputs": [
    {
     "data": {
      "text/plain": [
       "Sex  Pathology           \n",
       "m    Healthy                 7\n",
       "     Vocal cord cancer       5\n",
       "     Larynx tumor            3\n",
       "w    Healthy                 3\n",
       "m    Carcinoma in situ       1\n",
       "     Dysplastic larynx       1\n",
       "     Hypopharyngeal tumor    1\n",
       "w    Larynx tumor            1\n",
       "     Vocal cord cancer       1\n",
       "dtype: int64"
      ]
     },
     "execution_count": 28,
     "metadata": {},
     "output_type": "execute_result"
    }
   ],
   "source": [
    "X_test[['Sex', 'Pathology']].value_counts()"
   ]
  },
  {
   "cell_type": "code",
   "execution_count": 29,
   "id": "b29505e0",
   "metadata": {},
   "outputs": [],
   "source": [
    "X_train.to_csv(\"trainSet.csv\")"
   ]
  },
  {
   "cell_type": "code",
   "execution_count": 30,
   "id": "0298a6d5",
   "metadata": {},
   "outputs": [],
   "source": [
    "X_test.to_csv(\"testSet.csv\")"
   ]
  },
  {
   "cell_type": "code",
   "execution_count": null,
   "id": "9a1e6842",
   "metadata": {},
   "outputs": [],
   "source": []
  }
 ],
 "metadata": {
  "kernelspec": {
   "display_name": "Python 3 (ipykernel)",
   "language": "python",
   "name": "python3"
  },
  "language_info": {
   "codemirror_mode": {
    "name": "ipython",
    "version": 3
   },
   "file_extension": ".py",
   "mimetype": "text/x-python",
   "name": "python",
   "nbconvert_exporter": "python",
   "pygments_lexer": "ipython3",
   "version": "3.9.16"
  }
 },
 "nbformat": 4,
 "nbformat_minor": 5
}
