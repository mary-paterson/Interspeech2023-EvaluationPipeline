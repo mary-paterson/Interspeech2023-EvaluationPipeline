{
 "cells": [
  {
   "cell_type": "markdown",
   "id": "ee5634c0",
   "metadata": {},
   "source": [
    "# Preprocess Files"
   ]
  },
  {
   "cell_type": "code",
   "execution_count": 1,
   "id": "c26f0263",
   "metadata": {},
   "outputs": [],
   "source": [
    "import librosa\n",
    "import matplotlib.pyplot as plt\n",
    "import os\n",
    "import preprocessing\n",
    "import soundfile"
   ]
  },
  {
   "cell_type": "code",
   "execution_count": 2,
   "id": "2b417026",
   "metadata": {},
   "outputs": [],
   "source": [
    "testSet = 'TestSet//'\n",
    "trainSet = 'TrainSet//'"
   ]
  },
  {
   "cell_type": "code",
   "execution_count": 3,
   "id": "4e25f0ae",
   "metadata": {},
   "outputs": [],
   "source": [
    "testSave = 'TestSetPrepped//'\n",
    "trainSave = 'TrainSetPrepped//'"
   ]
  },
  {
   "cell_type": "code",
   "execution_count": 4,
   "id": "bbe18a16",
   "metadata": {},
   "outputs": [],
   "source": [
    "for file in os.listdir(testSet):\n",
    "    if file.endswith('.wav'):\n",
    "        file_path = testSet+file\n",
    "        signal, sr = librosa.load(file_path)\n",
    "        signal = preprocessing.endpoint_detection(signal)\n",
    "        signal = preprocessing.normalization(signal)\n",
    "        file_save_path = testSave+file\n",
    "        soundfile.write(file_save_path, signal, sr)"
   ]
  },
  {
   "cell_type": "code",
   "execution_count": 5,
   "id": "bbd4c36a",
   "metadata": {},
   "outputs": [],
   "source": [
    "for file in os.listdir(trainSet):\n",
    "    if file.endswith('.wav'):\n",
    "        file_path = trainSet+file\n",
    "        signal, sr = librosa.load(file_path)\n",
    "        signal = preprocessing.endpoint_detection(signal)\n",
    "        signal = preprocessing.normalization(signal)\n",
    "        file_save_path = trainSave+file\n",
    "        soundfile.write(file_save_path, signal, sr)"
   ]
  },
  {
   "cell_type": "markdown",
   "id": "832e393a",
   "metadata": {},
   "source": [
    "# Extract Features"
   ]
  },
  {
   "cell_type": "code",
   "execution_count": 6,
   "id": "e124a0d2",
   "metadata": {},
   "outputs": [],
   "source": [
    "import FeatureExtract\n",
    "import pandas as pd\n",
    "import parselmouth"
   ]
  },
  {
   "cell_type": "code",
   "execution_count": 7,
   "id": "2a3901c6",
   "metadata": {},
   "outputs": [],
   "source": [
    "testSet = 'TestSetPrepped//'\n",
    "trainSet = 'TrainSetPrepped//'"
   ]
  },
  {
   "cell_type": "code",
   "execution_count": 8,
   "id": "bba024ed",
   "metadata": {},
   "outputs": [],
   "source": [
    "def extract_feature_df(filepath, start=0):\n",
    "    feat_df = pd.DataFrame()\n",
    "    for file in os.listdir(filepath):\n",
    "        filename = os.fsdecode(file)\n",
    "        if filename.endswith(\".wav\"):\n",
    "            y, sr = librosa.load(filepath+filename)\n",
    "            dur = librosa.get_duration(y=y, sr=sr)\n",
    "            f_id = filename.split('.')[0]\n",
    "            path = filepath+file\n",
    "            report = FeatureExtract.get_report(path, start=start, end=dur)\n",
    "            feats = FeatureExtract.get_feats(report, f_id)\n",
    "            feat_df = pd.concat([feat_df, feats])\n",
    "    return feat_df"
   ]
  },
  {
   "cell_type": "code",
   "execution_count": 9,
   "id": "734202ee",
   "metadata": {},
   "outputs": [],
   "source": [
    "test_df = extract_feature_df(testSet) \n",
    "test_df = test_df.drop(['Median pitch', 'Mean pitch', 'Minimum pitch', 'Maximum pitch'], axis=1)"
   ]
  },
  {
   "cell_type": "code",
   "execution_count": 10,
   "id": "46e8ca9e",
   "metadata": {},
   "outputs": [],
   "source": [
    "train_df = extract_feature_df(trainSet) \n",
    "train_df = train_df.drop(['Median pitch', 'Mean pitch', 'Minimum pitch', 'Maximum pitch'], axis=1)"
   ]
  },
  {
   "cell_type": "code",
   "execution_count": 11,
   "id": "fec047dc",
   "metadata": {},
   "outputs": [
    {
     "data": {
      "text/plain": [
       "(159, 23)"
      ]
     },
     "execution_count": 11,
     "metadata": {},
     "output_type": "execute_result"
    }
   ],
   "source": [
    "train_df.shape"
   ]
  },
  {
   "cell_type": "code",
   "execution_count": 12,
   "id": "4f4ffdb6",
   "metadata": {},
   "outputs": [
    {
     "data": {
      "text/html": [
       "<div>\n",
       "<style scoped>\n",
       "    .dataframe tbody tr th:only-of-type {\n",
       "        vertical-align: middle;\n",
       "    }\n",
       "\n",
       "    .dataframe tbody tr th {\n",
       "        vertical-align: top;\n",
       "    }\n",
       "\n",
       "    .dataframe thead th {\n",
       "        text-align: right;\n",
       "    }\n",
       "</style>\n",
       "<table border=\"1\" class=\"dataframe\">\n",
       "  <thead>\n",
       "    <tr style=\"text-align: right;\">\n",
       "      <th></th>\n",
       "      <th>name</th>\n",
       "      <th>Standard deviation</th>\n",
       "      <th>Number of pulses</th>\n",
       "      <th>Number of periods</th>\n",
       "      <th>Mean period</th>\n",
       "      <th>Standard deviation of period</th>\n",
       "      <th>Fraction of locally unvoiced frames</th>\n",
       "      <th>Number of voice breaks</th>\n",
       "      <th>Degree of voice breaks</th>\n",
       "      <th>Jitter (local)</th>\n",
       "      <th>...</th>\n",
       "      <th>Jitter (ddp)</th>\n",
       "      <th>Shimmer (local)</th>\n",
       "      <th>Shimmer (local, dB)</th>\n",
       "      <th>Shimmer (apq3)</th>\n",
       "      <th>Shimmer (apq5)</th>\n",
       "      <th>Shimmer (apq11)</th>\n",
       "      <th>Shimmer (dda)</th>\n",
       "      <th>Mean autocorrelation</th>\n",
       "      <th>Mean noise-to-harmonics ratio</th>\n",
       "      <th>Mean harmonics-to-noise ratio</th>\n",
       "    </tr>\n",
       "  </thead>\n",
       "  <tbody>\n",
       "    <tr>\n",
       "      <th>0</th>\n",
       "      <td>1047-a_n</td>\n",
       "      <td>3.584</td>\n",
       "      <td>358.0</td>\n",
       "      <td>357.0</td>\n",
       "      <td>0.004759</td>\n",
       "      <td>0.000087</td>\n",
       "      <td>0.0</td>\n",
       "      <td>0.0</td>\n",
       "      <td>0.000</td>\n",
       "      <td>0.828</td>\n",
       "      <td>...</td>\n",
       "      <td>1.498</td>\n",
       "      <td>1.165</td>\n",
       "      <td>0.101</td>\n",
       "      <td>0.573</td>\n",
       "      <td>0.710</td>\n",
       "      <td>1.314</td>\n",
       "      <td>1.719</td>\n",
       "      <td>0.990686</td>\n",
       "      <td>0.009443</td>\n",
       "      <td>21.104</td>\n",
       "    </tr>\n",
       "    <tr>\n",
       "      <th>0</th>\n",
       "      <td>1047-i_n</td>\n",
       "      <td>1.813</td>\n",
       "      <td>417.0</td>\n",
       "      <td>416.0</td>\n",
       "      <td>0.004627</td>\n",
       "      <td>0.000040</td>\n",
       "      <td>0.0</td>\n",
       "      <td>0.0</td>\n",
       "      <td>0.000</td>\n",
       "      <td>0.165</td>\n",
       "      <td>...</td>\n",
       "      <td>0.243</td>\n",
       "      <td>1.256</td>\n",
       "      <td>0.109</td>\n",
       "      <td>0.415</td>\n",
       "      <td>0.712</td>\n",
       "      <td>1.772</td>\n",
       "      <td>1.244</td>\n",
       "      <td>0.999518</td>\n",
       "      <td>0.000483</td>\n",
       "      <td>34.820</td>\n",
       "    </tr>\n",
       "    <tr>\n",
       "      <th>0</th>\n",
       "      <td>1047-u_n</td>\n",
       "      <td>2.307</td>\n",
       "      <td>294.0</td>\n",
       "      <td>293.0</td>\n",
       "      <td>0.004723</td>\n",
       "      <td>0.000053</td>\n",
       "      <td>0.0</td>\n",
       "      <td>0.0</td>\n",
       "      <td>0.000</td>\n",
       "      <td>0.328</td>\n",
       "      <td>...</td>\n",
       "      <td>0.578</td>\n",
       "      <td>1.900</td>\n",
       "      <td>0.166</td>\n",
       "      <td>0.969</td>\n",
       "      <td>1.127</td>\n",
       "      <td>1.831</td>\n",
       "      <td>2.907</td>\n",
       "      <td>0.998707</td>\n",
       "      <td>0.001295</td>\n",
       "      <td>29.423</td>\n",
       "    </tr>\n",
       "    <tr>\n",
       "      <th>0</th>\n",
       "      <td>1048-a_n</td>\n",
       "      <td>31.825</td>\n",
       "      <td>232.0</td>\n",
       "      <td>228.0</td>\n",
       "      <td>0.005992</td>\n",
       "      <td>0.001424</td>\n",
       "      <td>6.0</td>\n",
       "      <td>3.0</td>\n",
       "      <td>9.149</td>\n",
       "      <td>1.269</td>\n",
       "      <td>...</td>\n",
       "      <td>1.858</td>\n",
       "      <td>3.604</td>\n",
       "      <td>0.370</td>\n",
       "      <td>1.678</td>\n",
       "      <td>2.092</td>\n",
       "      <td>2.794</td>\n",
       "      <td>5.035</td>\n",
       "      <td>0.947451</td>\n",
       "      <td>0.073036</td>\n",
       "      <td>22.139</td>\n",
       "    </tr>\n",
       "    <tr>\n",
       "      <th>0</th>\n",
       "      <td>1048-i_n</td>\n",
       "      <td>6.612</td>\n",
       "      <td>279.0</td>\n",
       "      <td>278.0</td>\n",
       "      <td>0.004413</td>\n",
       "      <td>0.000132</td>\n",
       "      <td>0.0</td>\n",
       "      <td>0.0</td>\n",
       "      <td>0.000</td>\n",
       "      <td>0.452</td>\n",
       "      <td>...</td>\n",
       "      <td>0.613</td>\n",
       "      <td>2.452</td>\n",
       "      <td>0.206</td>\n",
       "      <td>1.266</td>\n",
       "      <td>1.267</td>\n",
       "      <td>2.177</td>\n",
       "      <td>3.797</td>\n",
       "      <td>0.996343</td>\n",
       "      <td>0.003687</td>\n",
       "      <td>26.142</td>\n",
       "    </tr>\n",
       "  </tbody>\n",
       "</table>\n",
       "<p>5 rows × 23 columns</p>\n",
       "</div>"
      ],
      "text/plain": [
       "       name  Standard deviation  Number of pulses  Number of periods  \\\n",
       "0  1047-a_n               3.584             358.0              357.0   \n",
       "0  1047-i_n               1.813             417.0              416.0   \n",
       "0  1047-u_n               2.307             294.0              293.0   \n",
       "0  1048-a_n              31.825             232.0              228.0   \n",
       "0  1048-i_n               6.612             279.0              278.0   \n",
       "\n",
       "   Mean period  Standard deviation of period  \\\n",
       "0     0.004759                      0.000087   \n",
       "0     0.004627                      0.000040   \n",
       "0     0.004723                      0.000053   \n",
       "0     0.005992                      0.001424   \n",
       "0     0.004413                      0.000132   \n",
       "\n",
       "   Fraction of locally unvoiced frames  Number of voice breaks  \\\n",
       "0                                  0.0                     0.0   \n",
       "0                                  0.0                     0.0   \n",
       "0                                  0.0                     0.0   \n",
       "0                                  6.0                     3.0   \n",
       "0                                  0.0                     0.0   \n",
       "\n",
       "   Degree of voice breaks  Jitter (local)  ...  Jitter (ddp)  Shimmer (local)  \\\n",
       "0                   0.000           0.828  ...         1.498            1.165   \n",
       "0                   0.000           0.165  ...         0.243            1.256   \n",
       "0                   0.000           0.328  ...         0.578            1.900   \n",
       "0                   9.149           1.269  ...         1.858            3.604   \n",
       "0                   0.000           0.452  ...         0.613            2.452   \n",
       "\n",
       "   Shimmer (local, dB)  Shimmer (apq3)  Shimmer (apq5)  Shimmer (apq11)  \\\n",
       "0                0.101           0.573           0.710            1.314   \n",
       "0                0.109           0.415           0.712            1.772   \n",
       "0                0.166           0.969           1.127            1.831   \n",
       "0                0.370           1.678           2.092            2.794   \n",
       "0                0.206           1.266           1.267            2.177   \n",
       "\n",
       "   Shimmer (dda)  Mean autocorrelation  Mean noise-to-harmonics ratio  \\\n",
       "0          1.719              0.990686                       0.009443   \n",
       "0          1.244              0.999518                       0.000483   \n",
       "0          2.907              0.998707                       0.001295   \n",
       "0          5.035              0.947451                       0.073036   \n",
       "0          3.797              0.996343                       0.003687   \n",
       "\n",
       "   Mean harmonics-to-noise ratio  \n",
       "0                         21.104  \n",
       "0                         34.820  \n",
       "0                         29.423  \n",
       "0                         22.139  \n",
       "0                         26.142  \n",
       "\n",
       "[5 rows x 23 columns]"
      ]
     },
     "execution_count": 12,
     "metadata": {},
     "output_type": "execute_result"
    }
   ],
   "source": [
    "train_df.head()"
   ]
  },
  {
   "cell_type": "code",
   "execution_count": 13,
   "id": "69b1db3e",
   "metadata": {},
   "outputs": [
    {
     "data": {
      "text/plain": [
       "Index(['name', 'Standard deviation', 'Number of pulses', 'Number of periods',\n",
       "       'Mean period', 'Standard deviation of period',\n",
       "       'Fraction of locally unvoiced frames', 'Number of voice breaks',\n",
       "       'Degree of voice breaks', 'Jitter (local)', 'Jitter (local, absolute)',\n",
       "       'Jitter (rap)', 'Jitter (ppq5)', 'Jitter (ddp)', 'Shimmer (local)',\n",
       "       'Shimmer (local, dB)', 'Shimmer (apq3)', 'Shimmer (apq5)',\n",
       "       'Shimmer (apq11)', 'Shimmer (dda)', 'Mean autocorrelation',\n",
       "       'Mean noise-to-harmonics ratio', 'Mean harmonics-to-noise ratio'],\n",
       "      dtype='object')"
      ]
     },
     "execution_count": 13,
     "metadata": {},
     "output_type": "execute_result"
    }
   ],
   "source": [
    "train_df.columns"
   ]
  },
  {
   "cell_type": "markdown",
   "id": "0845f087",
   "metadata": {},
   "source": [
    "# Add Demographic Data"
   ]
  },
  {
   "cell_type": "code",
   "execution_count": 14,
   "id": "17c494fb",
   "metadata": {},
   "outputs": [],
   "source": [
    "test_meta = pd.read_csv('testSet.csv', index_col=0)\n",
    "\n",
    "test_df[['RecordingID', 'RestOfName']] = test_df['name'].str.split('-',expand=True)\n",
    "test_df['Sound'] = test_df['RestOfName'].str.split('_',expand=True)[0]\n",
    "test_df['RecordingID'] = test_df['RecordingID'].astype('int')\n",
    "\n",
    "test_df = test_df.drop('name', axis=1)\n",
    "test_df = test_df.drop('RestOfName', axis=1)\n",
    "test_df = test_df.reset_index(drop=True)\n",
    "\n",
    "test_df = pd.merge(test_df, test_meta, how='left', on = 'RecordingID')"
   ]
  },
  {
   "cell_type": "code",
   "execution_count": 15,
   "id": "ab116ece",
   "metadata": {},
   "outputs": [],
   "source": [
    "train_meta = pd.read_csv('trainSet.csv', index_col=0)\n",
    "\n",
    "train_df[['RecordingID', 'RestOfName']] = train_df['name'].str.split('-',expand=True)\n",
    "train_df['Sound'] = train_df['RestOfName'].str.split('_',expand=True)[0]\n",
    "train_df['RecordingID'] = train_df['RecordingID'].astype('int')\n",
    "\n",
    "train_df = train_df.drop('name', axis=1)\n",
    "train_df = train_df.drop('RestOfName', axis=1)\n",
    "train_df = train_df.reset_index(drop=True)\n",
    "\n",
    "train_df = pd.merge(train_df, train_meta, how='left', on = 'RecordingID')"
   ]
  },
  {
   "cell_type": "code",
   "execution_count": 16,
   "id": "e04c6c7e",
   "metadata": {},
   "outputs": [
    {
     "data": {
      "text/plain": [
       "(69, 30)"
      ]
     },
     "execution_count": 16,
     "metadata": {},
     "output_type": "execute_result"
    }
   ],
   "source": [
    "test_df.shape"
   ]
  },
  {
   "cell_type": "code",
   "execution_count": 17,
   "id": "c47dffa1",
   "metadata": {},
   "outputs": [
    {
     "data": {
      "text/plain": [
       "(159, 30)"
      ]
     },
     "execution_count": 17,
     "metadata": {},
     "output_type": "execute_result"
    }
   ],
   "source": [
    "train_df.shape"
   ]
  },
  {
   "cell_type": "code",
   "execution_count": 18,
   "id": "77e605de",
   "metadata": {},
   "outputs": [],
   "source": [
    "train_df.to_csv('train_features2.csv')"
   ]
  },
  {
   "cell_type": "code",
   "execution_count": 19,
   "id": "38de94a2",
   "metadata": {},
   "outputs": [],
   "source": [
    "test_df.to_csv('test_features2.csv')"
   ]
  },
  {
   "cell_type": "markdown",
   "id": "dfdfe2bb",
   "metadata": {},
   "source": [
    "# Prepare for Classification"
   ]
  },
  {
   "cell_type": "markdown",
   "id": "e6c3adfc",
   "metadata": {},
   "source": [
    "Train Data"
   ]
  },
  {
   "cell_type": "code",
   "execution_count": 20,
   "id": "8f6cfb54",
   "metadata": {},
   "outputs": [],
   "source": [
    "X_train = train_df.drop(['RecordingID', 'Sound', 'Type', 'Date', 'SubjectID', 'Sex', 'Age', 'Pathology'], axis=1)\n",
    "y_train = train_df['Type']"
   ]
  },
  {
   "cell_type": "code",
   "execution_count": 21,
   "id": "f30be271",
   "metadata": {},
   "outputs": [],
   "source": [
    "X_train = X_train.dropna()"
   ]
  },
  {
   "cell_type": "code",
   "execution_count": 22,
   "id": "8edc3b33",
   "metadata": {},
   "outputs": [],
   "source": [
    "df_index = X_train.index.values.tolist()\n",
    "y_train = y_train.iloc[df_index]"
   ]
  },
  {
   "cell_type": "code",
   "execution_count": 23,
   "id": "7ab264cc",
   "metadata": {},
   "outputs": [
    {
     "name": "stdout",
     "output_type": "stream",
     "text": [
      "(157, 22)\n",
      "(157,)\n"
     ]
    }
   ],
   "source": [
    "print(X_train.shape)\n",
    "print(y_train.shape)"
   ]
  },
  {
   "cell_type": "markdown",
   "id": "c6a64f71",
   "metadata": {},
   "source": [
    "Test Data"
   ]
  },
  {
   "cell_type": "code",
   "execution_count": 24,
   "id": "ce1d1496",
   "metadata": {},
   "outputs": [],
   "source": [
    "X_test = test_df.drop(['RecordingID', 'Sound', 'Type', 'Date', 'SubjectID', 'Sex', 'Age', 'Pathology'], axis=1)\n",
    "y_test = test_df['Type']"
   ]
  },
  {
   "cell_type": "code",
   "execution_count": 25,
   "id": "63852cfb",
   "metadata": {},
   "outputs": [],
   "source": [
    "X_test = X_test.dropna()"
   ]
  },
  {
   "cell_type": "code",
   "execution_count": 26,
   "id": "c57a4432",
   "metadata": {},
   "outputs": [],
   "source": [
    "df_index = X_test.index.values.tolist()\n",
    "y_test = y_test.iloc[df_index]"
   ]
  },
  {
   "cell_type": "code",
   "execution_count": 27,
   "id": "0eea6280",
   "metadata": {},
   "outputs": [
    {
     "name": "stdout",
     "output_type": "stream",
     "text": [
      "(66, 22)\n",
      "(66,)\n"
     ]
    }
   ],
   "source": [
    "print(X_test.shape)\n",
    "print(y_test.shape)"
   ]
  },
  {
   "cell_type": "markdown",
   "id": "75392d4d",
   "metadata": {},
   "source": [
    "Results"
   ]
  },
  {
   "cell_type": "code",
   "execution_count": 28,
   "id": "8ff3602b",
   "metadata": {},
   "outputs": [],
   "source": [
    "results = test_df[['RecordingID', 'Sound', 'Type', 'Date', 'SubjectID', 'Sex', 'Age', 'Pathology']].copy()"
   ]
  },
  {
   "cell_type": "code",
   "execution_count": 29,
   "id": "c03ddc2d",
   "metadata": {},
   "outputs": [
    {
     "data": {
      "text/html": [
       "<div>\n",
       "<style scoped>\n",
       "    .dataframe tbody tr th:only-of-type {\n",
       "        vertical-align: middle;\n",
       "    }\n",
       "\n",
       "    .dataframe tbody tr th {\n",
       "        vertical-align: top;\n",
       "    }\n",
       "\n",
       "    .dataframe thead th {\n",
       "        text-align: right;\n",
       "    }\n",
       "</style>\n",
       "<table border=\"1\" class=\"dataframe\">\n",
       "  <thead>\n",
       "    <tr style=\"text-align: right;\">\n",
       "      <th></th>\n",
       "      <th>RecordingID</th>\n",
       "      <th>Sound</th>\n",
       "      <th>Type</th>\n",
       "      <th>Date</th>\n",
       "      <th>SubjectID</th>\n",
       "      <th>Sex</th>\n",
       "      <th>Age</th>\n",
       "      <th>Pathology</th>\n",
       "    </tr>\n",
       "  </thead>\n",
       "  <tbody>\n",
       "    <tr>\n",
       "      <th>0</th>\n",
       "      <td>100</td>\n",
       "      <td>a</td>\n",
       "      <td>n</td>\n",
       "      <td>19/01/1998</td>\n",
       "      <td>117</td>\n",
       "      <td>m</td>\n",
       "      <td>66</td>\n",
       "      <td>Healthy</td>\n",
       "    </tr>\n",
       "    <tr>\n",
       "      <th>1</th>\n",
       "      <td>100</td>\n",
       "      <td>i</td>\n",
       "      <td>n</td>\n",
       "      <td>19/01/1998</td>\n",
       "      <td>117</td>\n",
       "      <td>m</td>\n",
       "      <td>66</td>\n",
       "      <td>Healthy</td>\n",
       "    </tr>\n",
       "    <tr>\n",
       "      <th>2</th>\n",
       "      <td>100</td>\n",
       "      <td>u</td>\n",
       "      <td>n</td>\n",
       "      <td>19/01/1998</td>\n",
       "      <td>117</td>\n",
       "      <td>m</td>\n",
       "      <td>66</td>\n",
       "      <td>Healthy</td>\n",
       "    </tr>\n",
       "    <tr>\n",
       "      <th>3</th>\n",
       "      <td>1005</td>\n",
       "      <td>a</td>\n",
       "      <td>n</td>\n",
       "      <td>29/10/1998</td>\n",
       "      <td>804</td>\n",
       "      <td>m</td>\n",
       "      <td>43</td>\n",
       "      <td>Healthy</td>\n",
       "    </tr>\n",
       "    <tr>\n",
       "      <th>4</th>\n",
       "      <td>1005</td>\n",
       "      <td>i</td>\n",
       "      <td>n</td>\n",
       "      <td>29/10/1998</td>\n",
       "      <td>804</td>\n",
       "      <td>m</td>\n",
       "      <td>43</td>\n",
       "      <td>Healthy</td>\n",
       "    </tr>\n",
       "  </tbody>\n",
       "</table>\n",
       "</div>"
      ],
      "text/plain": [
       "   RecordingID Sound Type        Date  SubjectID Sex  Age Pathology\n",
       "0          100     a    n  19/01/1998        117   m   66   Healthy\n",
       "1          100     i    n  19/01/1998        117   m   66   Healthy\n",
       "2          100     u    n  19/01/1998        117   m   66   Healthy\n",
       "3         1005     a    n  29/10/1998        804   m   43   Healthy\n",
       "4         1005     i    n  29/10/1998        804   m   43   Healthy"
      ]
     },
     "execution_count": 29,
     "metadata": {},
     "output_type": "execute_result"
    }
   ],
   "source": [
    "results.head()"
   ]
  },
  {
   "cell_type": "markdown",
   "id": "c65c4ac9",
   "metadata": {},
   "source": [
    "# Build Decision Tree"
   ]
  },
  {
   "cell_type": "code",
   "execution_count": 30,
   "id": "7294ac50",
   "metadata": {},
   "outputs": [],
   "source": [
    "from sklearn.tree import DecisionTreeClassifier\n",
    "from sklearn import metrics\n",
    "import pickle\n",
    "import matplotlib.pyplot as plt\n",
    "import numpy as np\n",
    "import EvaluateModel\n",
    "from sklearn.model_selection import GridSearchCV"
   ]
  },
  {
   "cell_type": "code",
   "execution_count": 31,
   "id": "e2c61d54",
   "metadata": {},
   "outputs": [],
   "source": [
    "np.random.seed(42)"
   ]
  },
  {
   "cell_type": "code",
   "execution_count": 32,
   "id": "32e53f32",
   "metadata": {},
   "outputs": [],
   "source": [
    "clf = DecisionTreeClassifier(criterion='entropy', max_depth=7, random_state=42)"
   ]
  },
  {
   "cell_type": "code",
   "execution_count": 33,
   "id": "5acaca8a",
   "metadata": {},
   "outputs": [
    {
     "name": "stdout",
     "output_type": "stream",
     "text": [
      "--- 0.0040035247802734375 seconds ---\n"
     ]
    }
   ],
   "source": [
    "import time\n",
    "start_time = time.time()\n",
    "clf = clf.fit(X_train,y_train)\n",
    "print(\"--- %s seconds ---\" % (time.time() - start_time))"
   ]
  },
  {
   "cell_type": "code",
   "execution_count": 34,
   "id": "96ce9110",
   "metadata": {},
   "outputs": [],
   "source": [
    "y_pred = clf.predict(X_test)"
   ]
  },
  {
   "cell_type": "code",
   "execution_count": 35,
   "id": "390c278f",
   "metadata": {},
   "outputs": [
    {
     "name": "stdout",
     "output_type": "stream",
     "text": [
      "Accuracy: 0.7424242424242424\n"
     ]
    }
   ],
   "source": [
    "print(\"Accuracy:\", metrics.accuracy_score(y_test, y_pred))"
   ]
  },
  {
   "cell_type": "code",
   "execution_count": 36,
   "id": "252d0449",
   "metadata": {},
   "outputs": [
    {
     "name": "stdout",
     "output_type": "stream",
     "text": [
      "[[21  9]\n",
      " [ 8 28]]\n"
     ]
    }
   ],
   "source": [
    "print(metrics.confusion_matrix(y_test, y_pred))"
   ]
  },
  {
   "cell_type": "code",
   "execution_count": 37,
   "id": "69ad18ae",
   "metadata": {},
   "outputs": [
    {
     "name": "stdout",
     "output_type": "stream",
     "text": [
      "precision - 0.7567567567567568\n",
      "recall - 0.7777777777777778\n"
     ]
    }
   ],
   "source": [
    "print('precision -', metrics.precision_score(y_test, y_pred, pos_label='p'))\n",
    "print('recall -', metrics.recall_score(y_test, y_pred, pos_label='p'))"
   ]
  },
  {
   "cell_type": "code",
   "execution_count": 38,
   "id": "c107ef59",
   "metadata": {},
   "outputs": [],
   "source": [
    "pickle.dump(clf, open(\"DT2.sav\", 'wb'))"
   ]
  },
  {
   "cell_type": "code",
   "execution_count": 39,
   "id": "9bcc808f",
   "metadata": {},
   "outputs": [],
   "source": [
    "results, _, _, _ = EvaluateModel.rec_results(clf, X_test, y_test, results)"
   ]
  },
  {
   "cell_type": "code",
   "execution_count": 40,
   "id": "00d119bd",
   "metadata": {},
   "outputs": [],
   "source": [
    "results = results.rename(columns={'Pred':'DT_pred'})"
   ]
  },
  {
   "cell_type": "markdown",
   "id": "4aab7fb1",
   "metadata": {},
   "source": [
    "# Build Random Forest"
   ]
  },
  {
   "cell_type": "code",
   "execution_count": 41,
   "id": "f0f29e2c",
   "metadata": {},
   "outputs": [],
   "source": [
    "from sklearn.ensemble import RandomForestClassifier"
   ]
  },
  {
   "cell_type": "code",
   "execution_count": 42,
   "id": "810444e4",
   "metadata": {},
   "outputs": [],
   "source": [
    "clf=RandomForestClassifier(n_estimators=45, random_state=42)"
   ]
  },
  {
   "cell_type": "code",
   "execution_count": 43,
   "id": "c5d6fe68",
   "metadata": {},
   "outputs": [
    {
     "name": "stdout",
     "output_type": "stream",
     "text": [
      "--- 0.07683372497558594 seconds ---\n"
     ]
    }
   ],
   "source": [
    "import time\n",
    "start_time = time.time()\n",
    "clf.fit(X_train,y_train)\n",
    "print(\"--- %s seconds ---\" % (time.time() - start_time))#Train the model using the training sets y_pred=clf.predict(X_test)"
   ]
  },
  {
   "cell_type": "code",
   "execution_count": 44,
   "id": "a0a7eb7d",
   "metadata": {},
   "outputs": [],
   "source": [
    "y_pred=clf.predict(X_test)"
   ]
  },
  {
   "cell_type": "code",
   "execution_count": 45,
   "id": "ec2650de",
   "metadata": {},
   "outputs": [
    {
     "name": "stdout",
     "output_type": "stream",
     "text": [
      "Accuracy: 0.803030303030303\n"
     ]
    }
   ],
   "source": [
    "print(\"Accuracy:\", metrics.accuracy_score(y_test, y_pred))"
   ]
  },
  {
   "cell_type": "code",
   "execution_count": 46,
   "id": "746638ee",
   "metadata": {},
   "outputs": [
    {
     "name": "stdout",
     "output_type": "stream",
     "text": [
      "[[22  8]\n",
      " [ 5 31]]\n"
     ]
    }
   ],
   "source": [
    "print(metrics.confusion_matrix(y_test, y_pred))"
   ]
  },
  {
   "cell_type": "code",
   "execution_count": 47,
   "id": "1ba2d922",
   "metadata": {},
   "outputs": [
    {
     "name": "stdout",
     "output_type": "stream",
     "text": [
      "precision - 0.7948717948717948\n",
      "recall - 0.8611111111111112\n"
     ]
    }
   ],
   "source": [
    "print('precision -', metrics.precision_score(y_test, y_pred, pos_label='p'))\n",
    "print('recall -', metrics.recall_score(y_test, y_pred, pos_label='p'))"
   ]
  },
  {
   "cell_type": "code",
   "execution_count": 48,
   "id": "4c77d5cf",
   "metadata": {},
   "outputs": [],
   "source": [
    "pickle.dump(clf, open(\"RF2.sav\", 'wb'))"
   ]
  },
  {
   "cell_type": "code",
   "execution_count": 49,
   "id": "8d8d1f91",
   "metadata": {},
   "outputs": [],
   "source": [
    "results, _, _, _ = EvaluateModel.rec_results(clf, X_test, y_test, results)"
   ]
  },
  {
   "cell_type": "code",
   "execution_count": 50,
   "id": "033685da",
   "metadata": {},
   "outputs": [],
   "source": [
    "results = results.rename(columns={'Pred':'RF_pred'})"
   ]
  },
  {
   "cell_type": "markdown",
   "id": "da83e5d0",
   "metadata": {},
   "source": [
    "# Build SVM"
   ]
  },
  {
   "cell_type": "code",
   "execution_count": 51,
   "id": "12adb1cb",
   "metadata": {},
   "outputs": [],
   "source": [
    "from sklearn.svm import SVC"
   ]
  },
  {
   "cell_type": "code",
   "execution_count": 52,
   "id": "9389a55b",
   "metadata": {},
   "outputs": [],
   "source": [
    "clf = SVC(C=100, gamma=1, kernel='linear')"
   ]
  },
  {
   "cell_type": "code",
   "execution_count": 53,
   "id": "651243ed",
   "metadata": {},
   "outputs": [
    {
     "name": "stdout",
     "output_type": "stream",
     "text": [
      "--- 8.193437099456787 seconds ---\n"
     ]
    }
   ],
   "source": [
    "import time\n",
    "start_time = time.time()\n",
    "clf.fit(X_train, y_train)\n",
    "print(\"--- %s seconds ---\" % (time.time() - start_time))"
   ]
  },
  {
   "cell_type": "code",
   "execution_count": 54,
   "id": "d0ec09dc",
   "metadata": {},
   "outputs": [],
   "source": [
    "y_pred=clf.predict(X_test)"
   ]
  },
  {
   "cell_type": "code",
   "execution_count": 55,
   "id": "78051c3b",
   "metadata": {},
   "outputs": [
    {
     "name": "stdout",
     "output_type": "stream",
     "text": [
      "Accuracy: 0.5909090909090909\n"
     ]
    }
   ],
   "source": [
    "print(\"Accuracy:\", metrics.accuracy_score(y_test, y_pred))"
   ]
  },
  {
   "cell_type": "code",
   "execution_count": 56,
   "id": "04d72fe1",
   "metadata": {},
   "outputs": [
    {
     "name": "stdout",
     "output_type": "stream",
     "text": [
      "[[22  8]\n",
      " [19 17]]\n"
     ]
    }
   ],
   "source": [
    "print(metrics.confusion_matrix(y_test, y_pred))"
   ]
  },
  {
   "cell_type": "code",
   "execution_count": 57,
   "id": "dba98a57",
   "metadata": {},
   "outputs": [
    {
     "name": "stdout",
     "output_type": "stream",
     "text": [
      "precision - 0.68\n",
      "recall - 0.4722222222222222\n"
     ]
    }
   ],
   "source": [
    "print('precision -', metrics.precision_score(y_test, y_pred, pos_label='p'))\n",
    "print('recall -', metrics.recall_score(y_test, y_pred, pos_label='p'))"
   ]
  },
  {
   "cell_type": "code",
   "execution_count": 58,
   "id": "4e8a79e4",
   "metadata": {},
   "outputs": [],
   "source": [
    "pickle.dump(clf, open(\"SVM2.sav\", 'wb'))"
   ]
  },
  {
   "cell_type": "code",
   "execution_count": 59,
   "id": "8b74b2db",
   "metadata": {},
   "outputs": [],
   "source": [
    "results, _, _, _ = EvaluateModel.rec_results(clf, X_test, y_test, results)"
   ]
  },
  {
   "cell_type": "code",
   "execution_count": 60,
   "id": "76939da8",
   "metadata": {},
   "outputs": [],
   "source": [
    "results = results.rename(columns={'Pred':'SVM_pred'})"
   ]
  },
  {
   "cell_type": "markdown",
   "id": "a67558be",
   "metadata": {},
   "source": [
    "# Build Logistic Regression"
   ]
  },
  {
   "cell_type": "code",
   "execution_count": 61,
   "id": "c116f9cb",
   "metadata": {},
   "outputs": [],
   "source": [
    "from sklearn.linear_model import LogisticRegression"
   ]
  },
  {
   "cell_type": "code",
   "execution_count": 62,
   "id": "c72b6971",
   "metadata": {},
   "outputs": [],
   "source": [
    "clf=LogisticRegression(random_state=42)"
   ]
  },
  {
   "cell_type": "code",
   "execution_count": 63,
   "id": "2b447684",
   "metadata": {},
   "outputs": [
    {
     "name": "stdout",
     "output_type": "stream",
     "text": [
      "--- 0.015233278274536133 seconds ---\n"
     ]
    },
    {
     "name": "stderr",
     "output_type": "stream",
     "text": [
      "C:\\Users\\maryp\\anaconda3\\envs\\LitReview\\lib\\site-packages\\sklearn\\linear_model\\_logistic.py:458: ConvergenceWarning: lbfgs failed to converge (status=1):\n",
      "STOP: TOTAL NO. of ITERATIONS REACHED LIMIT.\n",
      "\n",
      "Increase the number of iterations (max_iter) or scale the data as shown in:\n",
      "    https://scikit-learn.org/stable/modules/preprocessing.html\n",
      "Please also refer to the documentation for alternative solver options:\n",
      "    https://scikit-learn.org/stable/modules/linear_model.html#logistic-regression\n",
      "  n_iter_i = _check_optimize_result(\n"
     ]
    }
   ],
   "source": [
    "import time\n",
    "start_time = time.time()\n",
    "#Train the model using the training sets y_pred=clf.predict(X_test)\n",
    "clf.fit(X_train,y_train)\n",
    "print(\"--- %s seconds ---\" % (time.time() - start_time))#Train the model using the training sets y_pred=clf.predict(X_test)"
   ]
  },
  {
   "cell_type": "code",
   "execution_count": 64,
   "id": "99c00f1a",
   "metadata": {},
   "outputs": [],
   "source": [
    "y_pred=clf.predict(X_test)"
   ]
  },
  {
   "cell_type": "code",
   "execution_count": 65,
   "id": "fc663022",
   "metadata": {},
   "outputs": [
    {
     "name": "stdout",
     "output_type": "stream",
     "text": [
      "Accuracy: 0.6212121212121212\n"
     ]
    }
   ],
   "source": [
    "print(\"Accuracy:\", metrics.accuracy_score(y_test, y_pred))"
   ]
  },
  {
   "cell_type": "code",
   "execution_count": 66,
   "id": "d6463fbc",
   "metadata": {},
   "outputs": [
    {
     "name": "stdout",
     "output_type": "stream",
     "text": [
      "[[23  7]\n",
      " [18 18]]\n"
     ]
    }
   ],
   "source": [
    "print(metrics.confusion_matrix(y_test, y_pred))"
   ]
  },
  {
   "cell_type": "code",
   "execution_count": 67,
   "id": "a1be3f2f",
   "metadata": {},
   "outputs": [
    {
     "name": "stdout",
     "output_type": "stream",
     "text": [
      "precision - 0.72\n",
      "recall - 0.5\n"
     ]
    }
   ],
   "source": [
    "print('precision -', metrics.precision_score(y_test, y_pred, pos_label='p'))\n",
    "print('recall -', metrics.recall_score(y_test, y_pred, pos_label='p'))"
   ]
  },
  {
   "cell_type": "code",
   "execution_count": 68,
   "id": "07daf087",
   "metadata": {},
   "outputs": [],
   "source": [
    "pickle.dump(clf, open(\"LR2.sav\", 'wb'))"
   ]
  },
  {
   "cell_type": "code",
   "execution_count": 69,
   "id": "95d27336",
   "metadata": {},
   "outputs": [],
   "source": [
    "results, _, _, _ = EvaluateModel.rec_results(clf, X_test, y_test, results)"
   ]
  },
  {
   "cell_type": "code",
   "execution_count": 70,
   "id": "4620d1af",
   "metadata": {},
   "outputs": [],
   "source": [
    "results = results.rename(columns={'Pred':'LR_pred'})"
   ]
  },
  {
   "cell_type": "code",
   "execution_count": 71,
   "id": "d8c9c1d5",
   "metadata": {},
   "outputs": [],
   "source": [
    "results.to_csv('ClassifierResults2.csv')"
   ]
  },
  {
   "cell_type": "markdown",
   "id": "6f2f4cae",
   "metadata": {},
   "source": [
    "# Add Noise to Test Set\n"
   ]
  },
  {
   "cell_type": "code",
   "execution_count": 72,
   "id": "397ffd08",
   "metadata": {},
   "outputs": [],
   "source": [
    "import math\n",
    "import random"
   ]
  },
  {
   "cell_type": "code",
   "execution_count": 73,
   "id": "51ad5fe6",
   "metadata": {},
   "outputs": [],
   "source": [
    "def get_noise_from_sound(signal,noise,SNR):\n",
    "    RMS_s=math.sqrt(np.mean(signal**2))\n",
    "    #required RMS of noise\n",
    "    RMS_n=math.sqrt(RMS_s**2/(pow(10,SNR/10)))\n",
    "    \n",
    "    #current RMS of noise\n",
    "    RMS_n_current=math.sqrt(np.mean(noise**2))\n",
    "    noise=noise*(RMS_n/RMS_n_current)\n",
    "    \n",
    "    return noise"
   ]
  },
  {
   "cell_type": "code",
   "execution_count": 74,
   "id": "f8a0c3ed",
   "metadata": {},
   "outputs": [],
   "source": [
    "save_path = 'TestNoisy2//'\n",
    "path = 'TestSetPrepped//'"
   ]
  },
  {
   "cell_type": "code",
   "execution_count": 75,
   "id": "9edec99d",
   "metadata": {},
   "outputs": [],
   "source": [
    "for file in os.listdir(path):\n",
    "    filename = os.fsdecode(file)\n",
    "    if filename.endswith(\".mp3\") or filename.endswith(\".wav\"):\n",
    "        f_id = filename.split('.')[0]\n",
    "        file_type = filename.split('.')[-1]\n",
    "        y, sr = librosa.load(path+filename)\n",
    "        noise=np.random.normal(0, 0.1, y.shape[0])\n",
    "        snr = random.choice([5, 10, 20])\n",
    "        noise = get_noise_from_sound(y,noise,snr)\n",
    "        y_noisy = y+noise\n",
    "        \n",
    "        y_noisy = preprocessing.endpoint_detection(y_noisy)\n",
    "        y_noisy = preprocessing.normalization(y_noisy)\n",
    "        \n",
    "        soundfile.write(save_path+filename, y_noisy, sr)"
   ]
  },
  {
   "cell_type": "markdown",
   "id": "1efd8c9b",
   "metadata": {},
   "source": [
    "# Evaluate on Noisy"
   ]
  },
  {
   "cell_type": "code",
   "execution_count": 76,
   "id": "bcf85ffb",
   "metadata": {},
   "outputs": [],
   "source": [
    "noisy_path = 'TestNoisy2//'"
   ]
  },
  {
   "cell_type": "code",
   "execution_count": 77,
   "id": "0b11c18a",
   "metadata": {},
   "outputs": [],
   "source": [
    "noisy_df = extract_feature_df(noisy_path) \n",
    "noisy_df = noisy_df.drop(['Median pitch', 'Mean pitch', 'Minimum pitch', 'Maximum pitch'], axis=1)"
   ]
  },
  {
   "cell_type": "code",
   "execution_count": 78,
   "id": "138b2a25",
   "metadata": {},
   "outputs": [
    {
     "data": {
      "text/plain": [
       "(69, 23)"
      ]
     },
     "execution_count": 78,
     "metadata": {},
     "output_type": "execute_result"
    }
   ],
   "source": [
    "noisy_df.shape"
   ]
  },
  {
   "cell_type": "code",
   "execution_count": 79,
   "id": "74250fab",
   "metadata": {},
   "outputs": [],
   "source": [
    "test_meta = pd.read_csv('testSet.csv', index_col=0)\n",
    "\n",
    "noisy_df[['RecordingID', 'RestOfName']] = noisy_df['name'].str.split('-',expand=True)\n",
    "noisy_df['Sound'] = noisy_df['RestOfName'].str.split('_',expand=True)[0]\n",
    "noisy_df['RecordingID'] = noisy_df['RecordingID'].astype('int')\n",
    "\n",
    "noisy_df = noisy_df.drop('name', axis=1)\n",
    "noisy_df = noisy_df.drop('RestOfName', axis=1)\n",
    "noisy_df = noisy_df.reset_index(drop=True)\n",
    "\n",
    "noisy_df = pd.merge(noisy_df, test_meta, how='left', on = 'RecordingID')"
   ]
  },
  {
   "cell_type": "code",
   "execution_count": 80,
   "id": "f3c1f02a",
   "metadata": {},
   "outputs": [],
   "source": [
    "X_test = noisy_df.drop(['RecordingID', 'Sound', 'Type', 'Date', 'SubjectID', 'Sex', 'Age', 'Pathology'], axis=1)\n",
    "y_test = noisy_df['Type']"
   ]
  },
  {
   "cell_type": "code",
   "execution_count": 81,
   "id": "f218700a",
   "metadata": {},
   "outputs": [],
   "source": [
    "X_test = X_test.dropna()"
   ]
  },
  {
   "cell_type": "code",
   "execution_count": 82,
   "id": "11b47d4b",
   "metadata": {},
   "outputs": [],
   "source": [
    "df_index = X_test.index.values.tolist()\n",
    "y_test = y_test.iloc[df_index]"
   ]
  },
  {
   "cell_type": "code",
   "execution_count": 83,
   "id": "fcce47db",
   "metadata": {},
   "outputs": [
    {
     "name": "stdout",
     "output_type": "stream",
     "text": [
      "(67, 22)\n",
      "(67,)\n"
     ]
    }
   ],
   "source": [
    "print(X_test.shape)\n",
    "print(y_test.shape)"
   ]
  },
  {
   "cell_type": "code",
   "execution_count": 84,
   "id": "832fbb08",
   "metadata": {},
   "outputs": [],
   "source": [
    "noisy_results = noisy_df[['RecordingID', 'Sound', 'Type', 'Date', 'SubjectID', 'Sex', 'Age', 'Pathology']].copy()"
   ]
  },
  {
   "cell_type": "markdown",
   "id": "3e510302",
   "metadata": {},
   "source": [
    "## Decision Tree"
   ]
  },
  {
   "cell_type": "code",
   "execution_count": 85,
   "id": "e441d8a5",
   "metadata": {},
   "outputs": [],
   "source": [
    "clf = pickle.load(open('DT2.sav', 'rb'))"
   ]
  },
  {
   "cell_type": "code",
   "execution_count": 86,
   "id": "42140f58",
   "metadata": {},
   "outputs": [],
   "source": [
    "y_pred=clf.predict(X_test)"
   ]
  },
  {
   "cell_type": "code",
   "execution_count": 87,
   "id": "2ffeb473",
   "metadata": {},
   "outputs": [
    {
     "name": "stdout",
     "output_type": "stream",
     "text": [
      "Accuracy: 0.6268656716417911\n"
     ]
    }
   ],
   "source": [
    "print(\"Accuracy:\", metrics.accuracy_score(y_test, y_pred))"
   ]
  },
  {
   "cell_type": "code",
   "execution_count": 88,
   "id": "274ff752",
   "metadata": {},
   "outputs": [
    {
     "name": "stdout",
     "output_type": "stream",
     "text": [
      "[[10 20]\n",
      " [ 5 32]]\n"
     ]
    }
   ],
   "source": [
    "print(metrics.confusion_matrix(y_test, y_pred))"
   ]
  },
  {
   "cell_type": "code",
   "execution_count": 89,
   "id": "bde31952",
   "metadata": {},
   "outputs": [
    {
     "name": "stdout",
     "output_type": "stream",
     "text": [
      "precision - 0.6153846153846154\n",
      "recall - 0.8648648648648649\n"
     ]
    }
   ],
   "source": [
    "print('precision -', metrics.precision_score(y_test, y_pred, pos_label='p'))\n",
    "print('recall -', metrics.recall_score(y_test, y_pred, pos_label='p'))"
   ]
  },
  {
   "cell_type": "code",
   "execution_count": 90,
   "id": "bafbc428",
   "metadata": {},
   "outputs": [],
   "source": [
    "noisy_results, _, _, _ = EvaluateModel.rec_results(clf, X_test, y_test, noisy_results)"
   ]
  },
  {
   "cell_type": "code",
   "execution_count": 91,
   "id": "0b38093d",
   "metadata": {},
   "outputs": [],
   "source": [
    "noisy_results = noisy_results.rename(columns={'Pred':'DT_pred'})"
   ]
  },
  {
   "cell_type": "markdown",
   "id": "5bb42d99",
   "metadata": {},
   "source": [
    "## Random Forest"
   ]
  },
  {
   "cell_type": "code",
   "execution_count": 92,
   "id": "84d2d377",
   "metadata": {},
   "outputs": [],
   "source": [
    "clf = pickle.load(open('RF2.sav', 'rb'))"
   ]
  },
  {
   "cell_type": "code",
   "execution_count": 93,
   "id": "d098418f",
   "metadata": {},
   "outputs": [],
   "source": [
    "y_pred=clf.predict(X_test)"
   ]
  },
  {
   "cell_type": "code",
   "execution_count": 94,
   "id": "c5dce77e",
   "metadata": {},
   "outputs": [
    {
     "name": "stdout",
     "output_type": "stream",
     "text": [
      "Accuracy: 0.6268656716417911\n"
     ]
    }
   ],
   "source": [
    "print(\"Accuracy:\", metrics.accuracy_score(y_test, y_pred))"
   ]
  },
  {
   "cell_type": "code",
   "execution_count": 95,
   "id": "ded5a4ad",
   "metadata": {},
   "outputs": [
    {
     "name": "stdout",
     "output_type": "stream",
     "text": [
      "[[ 8 22]\n",
      " [ 3 34]]\n"
     ]
    }
   ],
   "source": [
    "print(metrics.confusion_matrix(y_test, y_pred))"
   ]
  },
  {
   "cell_type": "code",
   "execution_count": 96,
   "id": "9bc9d497",
   "metadata": {},
   "outputs": [
    {
     "name": "stdout",
     "output_type": "stream",
     "text": [
      "precision - 0.6071428571428571\n",
      "recall - 0.918918918918919\n"
     ]
    }
   ],
   "source": [
    "print('precision -', metrics.precision_score(y_test, y_pred, pos_label='p'))\n",
    "print('recall -', metrics.recall_score(y_test, y_pred, pos_label='p'))"
   ]
  },
  {
   "cell_type": "code",
   "execution_count": 97,
   "id": "0621b216",
   "metadata": {},
   "outputs": [],
   "source": [
    "noisy_results, _, _, _ = EvaluateModel.rec_results(clf, X_test, y_test, noisy_results)"
   ]
  },
  {
   "cell_type": "code",
   "execution_count": 98,
   "id": "e2bdddb4",
   "metadata": {},
   "outputs": [],
   "source": [
    "noisy_results = noisy_results.rename(columns={'Pred':'RF_pred'})"
   ]
  },
  {
   "cell_type": "markdown",
   "id": "0578887a",
   "metadata": {},
   "source": [
    "## SVM"
   ]
  },
  {
   "cell_type": "code",
   "execution_count": 99,
   "id": "52228999",
   "metadata": {},
   "outputs": [],
   "source": [
    "clf = pickle.load(open('SVM2.sav', 'rb'))"
   ]
  },
  {
   "cell_type": "code",
   "execution_count": 100,
   "id": "8fb926e5",
   "metadata": {},
   "outputs": [],
   "source": [
    "y_pred=clf.predict(X_test)"
   ]
  },
  {
   "cell_type": "code",
   "execution_count": 101,
   "id": "c5d690e9",
   "metadata": {},
   "outputs": [
    {
     "name": "stdout",
     "output_type": "stream",
     "text": [
      "Accuracy: 0.5223880597014925\n"
     ]
    }
   ],
   "source": [
    "print(\"Accuracy:\", metrics.accuracy_score(y_test, y_pred))"
   ]
  },
  {
   "cell_type": "code",
   "execution_count": 102,
   "id": "633c33c3",
   "metadata": {},
   "outputs": [
    {
     "name": "stdout",
     "output_type": "stream",
     "text": [
      "[[ 7 23]\n",
      " [ 9 28]]\n"
     ]
    }
   ],
   "source": [
    "print(metrics.confusion_matrix(y_test, y_pred))"
   ]
  },
  {
   "cell_type": "code",
   "execution_count": 103,
   "id": "e34bff15",
   "metadata": {},
   "outputs": [
    {
     "name": "stdout",
     "output_type": "stream",
     "text": [
      "precision - 0.5490196078431373\n",
      "recall - 0.7567567567567568\n"
     ]
    }
   ],
   "source": [
    "print('precision -', metrics.precision_score(y_test, y_pred, pos_label='p'))\n",
    "print('recall -', metrics.recall_score(y_test, y_pred, pos_label='p'))"
   ]
  },
  {
   "cell_type": "code",
   "execution_count": 104,
   "id": "7cdeab26",
   "metadata": {},
   "outputs": [],
   "source": [
    "noisy_results, _, _, _ = EvaluateModel.rec_results(clf, X_test, y_test, noisy_results)"
   ]
  },
  {
   "cell_type": "code",
   "execution_count": 105,
   "id": "5fadc00b",
   "metadata": {},
   "outputs": [],
   "source": [
    "noisy_results = noisy_results.rename(columns={'Pred':'SVM_pred'})"
   ]
  },
  {
   "cell_type": "markdown",
   "id": "fbc0d3d3",
   "metadata": {},
   "source": [
    "## Logistic Regression"
   ]
  },
  {
   "cell_type": "code",
   "execution_count": 106,
   "id": "df4595d5",
   "metadata": {},
   "outputs": [],
   "source": [
    "clf = pickle.load(open('LR2.sav', 'rb'))"
   ]
  },
  {
   "cell_type": "code",
   "execution_count": 107,
   "id": "90915521",
   "metadata": {},
   "outputs": [],
   "source": [
    "y_pred=clf.predict(X_test)"
   ]
  },
  {
   "cell_type": "code",
   "execution_count": 108,
   "id": "0b324a1b",
   "metadata": {},
   "outputs": [
    {
     "name": "stdout",
     "output_type": "stream",
     "text": [
      "Accuracy: 0.4626865671641791\n"
     ]
    }
   ],
   "source": [
    "print(\"Accuracy:\", metrics.accuracy_score(y_test, y_pred))"
   ]
  },
  {
   "cell_type": "code",
   "execution_count": 109,
   "id": "f39e9680",
   "metadata": {},
   "outputs": [
    {
     "name": "stdout",
     "output_type": "stream",
     "text": [
      "[[ 3 27]\n",
      " [ 9 28]]\n"
     ]
    }
   ],
   "source": [
    "print(metrics.confusion_matrix(y_test, y_pred))"
   ]
  },
  {
   "cell_type": "code",
   "execution_count": 110,
   "id": "b4921c0f",
   "metadata": {},
   "outputs": [
    {
     "name": "stdout",
     "output_type": "stream",
     "text": [
      "precision - 0.509090909090909\n",
      "recall - 0.7567567567567568\n"
     ]
    }
   ],
   "source": [
    "print('precision -', metrics.precision_score(y_test, y_pred, pos_label='p'))\n",
    "print('recall -', metrics.recall_score(y_test, y_pred, pos_label='p'))"
   ]
  },
  {
   "cell_type": "code",
   "execution_count": 111,
   "id": "8c711f5b",
   "metadata": {},
   "outputs": [],
   "source": [
    "noisy_results, _, _, _ = EvaluateModel.rec_results(clf, X_test, y_test, noisy_results)"
   ]
  },
  {
   "cell_type": "code",
   "execution_count": 112,
   "id": "41aa9f43",
   "metadata": {},
   "outputs": [],
   "source": [
    "noisy_results = noisy_results.rename(columns={'Pred':'LR_pred'})"
   ]
  },
  {
   "cell_type": "markdown",
   "id": "14b7fc91",
   "metadata": {},
   "source": [
    "# Apply Bandpass"
   ]
  },
  {
   "cell_type": "code",
   "execution_count": 113,
   "id": "84c9b633",
   "metadata": {},
   "outputs": [],
   "source": [
    "from scipy.signal import butter, lfilter\n",
    "from scipy.spatial.distance import euclidean"
   ]
  },
  {
   "cell_type": "code",
   "execution_count": 114,
   "id": "149f22e0",
   "metadata": {},
   "outputs": [],
   "source": [
    "def butter_bandpass(lowcut, highcut, fs, order=5):\n",
    "    nyq = 0.5 * fs\n",
    "    low = lowcut / nyq\n",
    "    high = highcut / nyq\n",
    "    b, a = butter(order, [low, high], btype='band')\n",
    "    return b, a\n",
    "\n",
    "\n",
    "def butter_bandpass_filter(data, lowcut, highcut, fs, order=5):\n",
    "    b, a = butter_bandpass(lowcut, highcut, fs, order=order)\n",
    "    y = lfilter(b, a, data)\n",
    "    return y"
   ]
  },
  {
   "cell_type": "code",
   "execution_count": 115,
   "id": "9194d48f",
   "metadata": {},
   "outputs": [],
   "source": [
    "save_dir = 'BandpassTestSet//'\n",
    "noisy_dir = 'TestNoisy2//'"
   ]
  },
  {
   "cell_type": "code",
   "execution_count": 116,
   "id": "49579d8a",
   "metadata": {},
   "outputs": [],
   "source": [
    "for file in os.listdir(noisy_dir):\n",
    "    if file.endswith('.wav'):\n",
    "        file_path = noisy_dir+file\n",
    "        signal, sr = librosa.load(file_path)\n",
    "        clean_signal = butter_bandpass_filter(signal, 10, 3500, sr, 1)\n",
    "        \n",
    "        clean_signal = preprocessing.endpoint_detection(clean_signal)\n",
    "        clean_signal = preprocessing.normalization(clean_signal)\n",
    "        \n",
    "        file_save_path = save_dir+file\n",
    "        soundfile.write(file_save_path, clean_signal, sr)"
   ]
  },
  {
   "cell_type": "markdown",
   "id": "29a304ff",
   "metadata": {},
   "source": [
    "# Evaluate on Bandpass"
   ]
  },
  {
   "cell_type": "code",
   "execution_count": 117,
   "id": "5126134e",
   "metadata": {},
   "outputs": [],
   "source": [
    "noisy_path = 'BandpassTestSet//'"
   ]
  },
  {
   "cell_type": "code",
   "execution_count": 118,
   "id": "616bc399",
   "metadata": {},
   "outputs": [],
   "source": [
    "noisy_df = extract_feature_df(noisy_path) \n",
    "noisy_df = noisy_df.drop(['Median pitch', 'Mean pitch', 'Minimum pitch', 'Maximum pitch'], axis=1)"
   ]
  },
  {
   "cell_type": "code",
   "execution_count": 119,
   "id": "e3ad04e9",
   "metadata": {},
   "outputs": [
    {
     "data": {
      "text/plain": [
       "(69, 23)"
      ]
     },
     "execution_count": 119,
     "metadata": {},
     "output_type": "execute_result"
    }
   ],
   "source": [
    "noisy_df.shape"
   ]
  },
  {
   "cell_type": "code",
   "execution_count": 120,
   "id": "a4f148ba",
   "metadata": {},
   "outputs": [],
   "source": [
    "test_meta = pd.read_csv('testSet.csv', index_col=0)\n",
    "\n",
    "noisy_df[['RecordingID', 'RestOfName']] = noisy_df['name'].str.split('-',expand=True)\n",
    "noisy_df['Sound'] = noisy_df['RestOfName'].str.split('_',expand=True)[0]\n",
    "noisy_df['RecordingID'] = noisy_df['RecordingID'].astype('int')\n",
    "\n",
    "noisy_df = noisy_df.drop('name', axis=1)\n",
    "noisy_df = noisy_df.drop('RestOfName', axis=1)\n",
    "noisy_df = noisy_df.reset_index(drop=True)\n",
    "\n",
    "noisy_df = pd.merge(noisy_df, test_meta, how='left', on = 'RecordingID')"
   ]
  },
  {
   "cell_type": "code",
   "execution_count": 121,
   "id": "f552ba62",
   "metadata": {},
   "outputs": [],
   "source": [
    "X_test = noisy_df.drop(['RecordingID', 'Sound', 'Type', 'Date', 'SubjectID', 'Sex', 'Age', 'Pathology'], axis=1)\n",
    "y_test = noisy_df['Type']"
   ]
  },
  {
   "cell_type": "code",
   "execution_count": 122,
   "id": "4f3e3d07",
   "metadata": {},
   "outputs": [],
   "source": [
    "X_test = X_test.dropna()"
   ]
  },
  {
   "cell_type": "code",
   "execution_count": 123,
   "id": "26a0f771",
   "metadata": {},
   "outputs": [],
   "source": [
    "df_index = X_test.index.values.tolist()\n",
    "y_test = y_test.iloc[df_index]"
   ]
  },
  {
   "cell_type": "code",
   "execution_count": 124,
   "id": "408e7675",
   "metadata": {},
   "outputs": [
    {
     "name": "stdout",
     "output_type": "stream",
     "text": [
      "(66, 22)\n",
      "(66,)\n"
     ]
    }
   ],
   "source": [
    "print(X_test.shape)\n",
    "print(y_test.shape)"
   ]
  },
  {
   "cell_type": "code",
   "execution_count": 125,
   "id": "3783b62d",
   "metadata": {},
   "outputs": [],
   "source": [
    "bandpass_results = noisy_df[['RecordingID', 'Sound', 'Type', 'Date', 'SubjectID', 'Sex', 'Age', 'Pathology']].copy()"
   ]
  },
  {
   "cell_type": "markdown",
   "id": "970d8682",
   "metadata": {},
   "source": [
    "## Decision Tree"
   ]
  },
  {
   "cell_type": "code",
   "execution_count": 126,
   "id": "2885357f",
   "metadata": {},
   "outputs": [],
   "source": [
    "clf = pickle.load(open('DT2.sav', 'rb'))"
   ]
  },
  {
   "cell_type": "code",
   "execution_count": 127,
   "id": "21cda817",
   "metadata": {},
   "outputs": [],
   "source": [
    "y_pred=clf.predict(X_test)"
   ]
  },
  {
   "cell_type": "code",
   "execution_count": 128,
   "id": "4721663d",
   "metadata": {},
   "outputs": [
    {
     "name": "stdout",
     "output_type": "stream",
     "text": [
      "Accuracy: 0.6515151515151515\n"
     ]
    }
   ],
   "source": [
    "print(\"Accuracy:\", metrics.accuracy_score(y_test, y_pred))"
   ]
  },
  {
   "cell_type": "code",
   "execution_count": 129,
   "id": "1f4fffe1",
   "metadata": {},
   "outputs": [
    {
     "name": "stdout",
     "output_type": "stream",
     "text": [
      "[[12 18]\n",
      " [ 5 31]]\n"
     ]
    }
   ],
   "source": [
    "print(metrics.confusion_matrix(y_test, y_pred))"
   ]
  },
  {
   "cell_type": "code",
   "execution_count": 130,
   "id": "930759a7",
   "metadata": {},
   "outputs": [
    {
     "name": "stdout",
     "output_type": "stream",
     "text": [
      "precision - 0.6326530612244898\n",
      "recall - 0.8611111111111112\n"
     ]
    }
   ],
   "source": [
    "print('precision -', metrics.precision_score(y_test, y_pred, pos_label='p'))\n",
    "print('recall -', metrics.recall_score(y_test, y_pred, pos_label='p'))"
   ]
  },
  {
   "cell_type": "code",
   "execution_count": 131,
   "id": "ce36049e",
   "metadata": {},
   "outputs": [],
   "source": [
    "bandpass_results, _, _, _ = EvaluateModel.rec_results(clf, X_test, y_test, bandpass_results)"
   ]
  },
  {
   "cell_type": "code",
   "execution_count": 132,
   "id": "9dd62335",
   "metadata": {},
   "outputs": [],
   "source": [
    "bandpass_results = bandpass_results.rename(columns={'Pred':'DT_pred'})"
   ]
  },
  {
   "cell_type": "markdown",
   "id": "907bce30",
   "metadata": {},
   "source": [
    "## Random Forest"
   ]
  },
  {
   "cell_type": "code",
   "execution_count": 133,
   "id": "5304ac24",
   "metadata": {},
   "outputs": [],
   "source": [
    "clf = pickle.load(open('RF2.sav', 'rb'))"
   ]
  },
  {
   "cell_type": "code",
   "execution_count": 134,
   "id": "6491f4d5",
   "metadata": {},
   "outputs": [],
   "source": [
    "y_pred=clf.predict(X_test)"
   ]
  },
  {
   "cell_type": "code",
   "execution_count": 135,
   "id": "a71e274b",
   "metadata": {},
   "outputs": [
    {
     "name": "stdout",
     "output_type": "stream",
     "text": [
      "Accuracy: 0.696969696969697\n"
     ]
    }
   ],
   "source": [
    "print(\"Accuracy:\", metrics.accuracy_score(y_test, y_pred))"
   ]
  },
  {
   "cell_type": "code",
   "execution_count": 136,
   "id": "65d88945",
   "metadata": {},
   "outputs": [
    {
     "name": "stdout",
     "output_type": "stream",
     "text": [
      "[[12 18]\n",
      " [ 2 34]]\n"
     ]
    }
   ],
   "source": [
    "print(metrics.confusion_matrix(y_test, y_pred))"
   ]
  },
  {
   "cell_type": "code",
   "execution_count": 137,
   "id": "ac845d88",
   "metadata": {},
   "outputs": [
    {
     "name": "stdout",
     "output_type": "stream",
     "text": [
      "precision - 0.6538461538461539\n",
      "recall - 0.9444444444444444\n"
     ]
    }
   ],
   "source": [
    "print('precision -', metrics.precision_score(y_test, y_pred, pos_label='p'))\n",
    "print('recall -', metrics.recall_score(y_test, y_pred, pos_label='p'))"
   ]
  },
  {
   "cell_type": "code",
   "execution_count": 138,
   "id": "d77cb165",
   "metadata": {},
   "outputs": [],
   "source": [
    "bandpass_results, _, _, _ = EvaluateModel.rec_results(clf, X_test, y_test, bandpass_results)"
   ]
  },
  {
   "cell_type": "code",
   "execution_count": 139,
   "id": "9d1d88aa",
   "metadata": {},
   "outputs": [],
   "source": [
    "bandpass_results = bandpass_results.rename(columns={'Pred':'RF_pred'})"
   ]
  },
  {
   "cell_type": "markdown",
   "id": "8d7a687d",
   "metadata": {},
   "source": [
    "## SVM"
   ]
  },
  {
   "cell_type": "code",
   "execution_count": 140,
   "id": "3cf5b24c",
   "metadata": {},
   "outputs": [],
   "source": [
    "clf = pickle.load(open('SVM2.sav', 'rb'))"
   ]
  },
  {
   "cell_type": "code",
   "execution_count": 141,
   "id": "64e0d1b4",
   "metadata": {},
   "outputs": [],
   "source": [
    "y_pred=clf.predict(X_test)"
   ]
  },
  {
   "cell_type": "code",
   "execution_count": 142,
   "id": "6058a353",
   "metadata": {},
   "outputs": [
    {
     "name": "stdout",
     "output_type": "stream",
     "text": [
      "Accuracy: 0.5303030303030303\n"
     ]
    }
   ],
   "source": [
    "print(\"Accuracy:\", metrics.accuracy_score(y_test, y_pred))"
   ]
  },
  {
   "cell_type": "code",
   "execution_count": 143,
   "id": "77fb7c24",
   "metadata": {},
   "outputs": [
    {
     "name": "stdout",
     "output_type": "stream",
     "text": [
      "[[ 7 23]\n",
      " [ 8 28]]\n"
     ]
    }
   ],
   "source": [
    "print(metrics.confusion_matrix(y_test, y_pred))"
   ]
  },
  {
   "cell_type": "code",
   "execution_count": 144,
   "id": "21ce6975",
   "metadata": {},
   "outputs": [
    {
     "name": "stdout",
     "output_type": "stream",
     "text": [
      "precision - 0.5490196078431373\n",
      "recall - 0.7777777777777778\n"
     ]
    }
   ],
   "source": [
    "print('precision -', metrics.precision_score(y_test, y_pred, pos_label='p'))\n",
    "print('recall -', metrics.recall_score(y_test, y_pred, pos_label='p'))"
   ]
  },
  {
   "cell_type": "code",
   "execution_count": 145,
   "id": "432779b4",
   "metadata": {},
   "outputs": [],
   "source": [
    "bandpass_results, _, _, _ = EvaluateModel.rec_results(clf, X_test, y_test, bandpass_results)"
   ]
  },
  {
   "cell_type": "code",
   "execution_count": 146,
   "id": "691ad719",
   "metadata": {},
   "outputs": [],
   "source": [
    "bandpass_results = bandpass_results.rename(columns={'Pred':'SVM_pred'})"
   ]
  },
  {
   "cell_type": "markdown",
   "id": "262a24b0",
   "metadata": {},
   "source": [
    "## Logistic Regression"
   ]
  },
  {
   "cell_type": "code",
   "execution_count": 147,
   "id": "c5889b14",
   "metadata": {},
   "outputs": [],
   "source": [
    "clf = pickle.load(open('LR2.sav', 'rb'))"
   ]
  },
  {
   "cell_type": "code",
   "execution_count": 148,
   "id": "14b5dbf1",
   "metadata": {},
   "outputs": [],
   "source": [
    "y_pred=clf.predict(X_test)"
   ]
  },
  {
   "cell_type": "code",
   "execution_count": 149,
   "id": "2990aa6f",
   "metadata": {},
   "outputs": [
    {
     "name": "stdout",
     "output_type": "stream",
     "text": [
      "Accuracy: 0.5\n"
     ]
    }
   ],
   "source": [
    "print(\"Accuracy:\", metrics.accuracy_score(y_test, y_pred))"
   ]
  },
  {
   "cell_type": "code",
   "execution_count": 150,
   "id": "add5bc23",
   "metadata": {},
   "outputs": [
    {
     "name": "stdout",
     "output_type": "stream",
     "text": [
      "[[ 5 25]\n",
      " [ 8 28]]\n"
     ]
    }
   ],
   "source": [
    "print(metrics.confusion_matrix(y_test, y_pred))"
   ]
  },
  {
   "cell_type": "code",
   "execution_count": 151,
   "id": "b0472999",
   "metadata": {},
   "outputs": [
    {
     "name": "stdout",
     "output_type": "stream",
     "text": [
      "precision - 0.5283018867924528\n",
      "recall - 0.7777777777777778\n"
     ]
    }
   ],
   "source": [
    "print('precision -', metrics.precision_score(y_test, y_pred, pos_label='p'))\n",
    "print('recall -', metrics.recall_score(y_test, y_pred, pos_label='p'))"
   ]
  },
  {
   "cell_type": "code",
   "execution_count": 152,
   "id": "f4f04f35",
   "metadata": {},
   "outputs": [],
   "source": [
    "bandpass_results, _, _, _ = EvaluateModel.rec_results(clf, X_test, y_test, bandpass_results)"
   ]
  },
  {
   "cell_type": "code",
   "execution_count": 153,
   "id": "174bb764",
   "metadata": {},
   "outputs": [],
   "source": [
    "bandpass_results = bandpass_results.rename(columns={'Pred':'LR_pred'})"
   ]
  },
  {
   "cell_type": "markdown",
   "id": "919c4c44",
   "metadata": {},
   "source": [
    "# Apply Weiner"
   ]
  },
  {
   "cell_type": "code",
   "execution_count": 154,
   "id": "97b27885",
   "metadata": {},
   "outputs": [],
   "source": [
    "from scipy.signal import wiener"
   ]
  },
  {
   "cell_type": "code",
   "execution_count": 155,
   "id": "f3943262",
   "metadata": {},
   "outputs": [],
   "source": [
    "save_dir = 'WeinerTestSet//'"
   ]
  },
  {
   "cell_type": "code",
   "execution_count": 156,
   "id": "d0831596",
   "metadata": {},
   "outputs": [],
   "source": [
    "for file in os.listdir(noisy_dir):\n",
    "    if file.endswith('.wav'):\n",
    "        file_path = noisy_dir+file\n",
    "        signal, sr = librosa.load(file_path)\n",
    "        clean_signal = wiener(signal, mysize=3, noise=0.1)\n",
    "        \n",
    "        clean_signal = preprocessing.endpoint_detection(clean_signal)\n",
    "        clean_signal = preprocessing.normalization(clean_signal)\n",
    "        \n",
    "        file_save_path = save_dir+file\n",
    "        soundfile.write(file_save_path, clean_signal, sr)"
   ]
  },
  {
   "cell_type": "code",
   "execution_count": 157,
   "id": "0c96f22c",
   "metadata": {},
   "outputs": [],
   "source": [
    "noisy_path = 'WeinerTestSet//'"
   ]
  },
  {
   "cell_type": "code",
   "execution_count": 158,
   "id": "ffbe1a5d",
   "metadata": {},
   "outputs": [],
   "source": [
    "noisy_df = extract_feature_df(noisy_path) \n",
    "noisy_df = noisy_df.drop(['Median pitch', 'Mean pitch', 'Minimum pitch', 'Maximum pitch'], axis=1)"
   ]
  },
  {
   "cell_type": "code",
   "execution_count": 159,
   "id": "19d78893",
   "metadata": {},
   "outputs": [
    {
     "data": {
      "text/plain": [
       "(69, 23)"
      ]
     },
     "execution_count": 159,
     "metadata": {},
     "output_type": "execute_result"
    }
   ],
   "source": [
    "noisy_df.shape"
   ]
  },
  {
   "cell_type": "code",
   "execution_count": 160,
   "id": "4cc51989",
   "metadata": {},
   "outputs": [],
   "source": [
    "test_meta = pd.read_csv('testSet.csv', index_col=0)\n",
    "\n",
    "noisy_df[['RecordingID', 'RestOfName']] = noisy_df['name'].str.split('-',expand=True)\n",
    "noisy_df['Sound'] = noisy_df['RestOfName'].str.split('_',expand=True)[0]\n",
    "noisy_df['RecordingID'] = noisy_df['RecordingID'].astype('int')\n",
    "\n",
    "noisy_df = noisy_df.drop('name', axis=1)\n",
    "noisy_df = noisy_df.drop('RestOfName', axis=1)\n",
    "noisy_df = noisy_df.reset_index(drop=True)\n",
    "\n",
    "noisy_df = pd.merge(noisy_df, test_meta, how='left', on = 'RecordingID')"
   ]
  },
  {
   "cell_type": "code",
   "execution_count": 161,
   "id": "936b6e92",
   "metadata": {},
   "outputs": [],
   "source": [
    "X_test = noisy_df.drop(['RecordingID', 'Sound', 'Type', 'Date', 'SubjectID', 'Sex', 'Age', 'Pathology'], axis=1)\n",
    "y_test = noisy_df['Type']"
   ]
  },
  {
   "cell_type": "code",
   "execution_count": 162,
   "id": "dbefa544",
   "metadata": {},
   "outputs": [],
   "source": [
    "X_test = X_test.dropna()"
   ]
  },
  {
   "cell_type": "code",
   "execution_count": 163,
   "id": "ee82ff59",
   "metadata": {},
   "outputs": [],
   "source": [
    "df_index = X_test.index.values.tolist()\n",
    "y_test = y_test.iloc[df_index]"
   ]
  },
  {
   "cell_type": "code",
   "execution_count": 164,
   "id": "de151a30",
   "metadata": {},
   "outputs": [
    {
     "name": "stdout",
     "output_type": "stream",
     "text": [
      "(66, 22)\n",
      "(66,)\n"
     ]
    }
   ],
   "source": [
    "print(X_test.shape)\n",
    "print(y_test.shape)"
   ]
  },
  {
   "cell_type": "code",
   "execution_count": 165,
   "id": "5fc4dec5",
   "metadata": {},
   "outputs": [],
   "source": [
    "weiner_results = noisy_df[['RecordingID', 'Sound', 'Type', 'Date', 'SubjectID', 'Sex', 'Age', 'Pathology']].copy()"
   ]
  },
  {
   "cell_type": "markdown",
   "id": "1d31d191",
   "metadata": {},
   "source": [
    "## Decision Tree"
   ]
  },
  {
   "cell_type": "code",
   "execution_count": 166,
   "id": "1c54ca3f",
   "metadata": {},
   "outputs": [],
   "source": [
    "clf = pickle.load(open('DT2.sav', 'rb'))"
   ]
  },
  {
   "cell_type": "code",
   "execution_count": 167,
   "id": "9e366810",
   "metadata": {},
   "outputs": [],
   "source": [
    "y_pred=clf.predict(X_test)"
   ]
  },
  {
   "cell_type": "code",
   "execution_count": 168,
   "id": "7c8b225f",
   "metadata": {},
   "outputs": [
    {
     "name": "stdout",
     "output_type": "stream",
     "text": [
      "Accuracy: 0.6666666666666666\n"
     ]
    }
   ],
   "source": [
    "print(\"Accuracy:\", metrics.accuracy_score(y_test, y_pred))"
   ]
  },
  {
   "cell_type": "code",
   "execution_count": 169,
   "id": "b31b5e74",
   "metadata": {},
   "outputs": [
    {
     "name": "stdout",
     "output_type": "stream",
     "text": [
      "[[14 16]\n",
      " [ 6 30]]\n"
     ]
    }
   ],
   "source": [
    "print(metrics.confusion_matrix(y_test, y_pred))"
   ]
  },
  {
   "cell_type": "code",
   "execution_count": 170,
   "id": "97a4f2cf",
   "metadata": {},
   "outputs": [
    {
     "name": "stdout",
     "output_type": "stream",
     "text": [
      "precision - 0.6521739130434783\n",
      "recall - 0.8333333333333334\n"
     ]
    }
   ],
   "source": [
    "print('precision -', metrics.precision_score(y_test, y_pred, pos_label='p'))\n",
    "print('recall -', metrics.recall_score(y_test, y_pred, pos_label='p'))"
   ]
  },
  {
   "cell_type": "code",
   "execution_count": 171,
   "id": "57711b3e",
   "metadata": {},
   "outputs": [],
   "source": [
    "weiner_results, _, _, _ = EvaluateModel.rec_results(clf, X_test, y_test, weiner_results)"
   ]
  },
  {
   "cell_type": "code",
   "execution_count": 172,
   "id": "e91d4125",
   "metadata": {},
   "outputs": [],
   "source": [
    "weiner_results = weiner_results.rename(columns={'Pred':'DT_pred'})"
   ]
  },
  {
   "cell_type": "markdown",
   "id": "339bb3d3",
   "metadata": {},
   "source": [
    "## Random Forest"
   ]
  },
  {
   "cell_type": "code",
   "execution_count": 173,
   "id": "7d61cd09",
   "metadata": {},
   "outputs": [],
   "source": [
    "clf = pickle.load(open('RF2.sav', 'rb'))"
   ]
  },
  {
   "cell_type": "code",
   "execution_count": 174,
   "id": "5a5e5a4a",
   "metadata": {},
   "outputs": [],
   "source": [
    "y_pred=clf.predict(X_test)"
   ]
  },
  {
   "cell_type": "code",
   "execution_count": 175,
   "id": "678595f8",
   "metadata": {},
   "outputs": [
    {
     "name": "stdout",
     "output_type": "stream",
     "text": [
      "Accuracy: 0.6818181818181818\n"
     ]
    }
   ],
   "source": [
    "print(\"Accuracy:\", metrics.accuracy_score(y_test, y_pred))"
   ]
  },
  {
   "cell_type": "code",
   "execution_count": 176,
   "id": "c335006f",
   "metadata": {},
   "outputs": [
    {
     "name": "stdout",
     "output_type": "stream",
     "text": [
      "[[11 19]\n",
      " [ 2 34]]\n"
     ]
    }
   ],
   "source": [
    "print(metrics.confusion_matrix(y_test, y_pred))"
   ]
  },
  {
   "cell_type": "code",
   "execution_count": 177,
   "id": "6c178bcc",
   "metadata": {},
   "outputs": [
    {
     "name": "stdout",
     "output_type": "stream",
     "text": [
      "precision - 0.6415094339622641\n",
      "recall - 0.9444444444444444\n"
     ]
    }
   ],
   "source": [
    "print('precision -', metrics.precision_score(y_test, y_pred, pos_label='p'))\n",
    "print('recall -', metrics.recall_score(y_test, y_pred, pos_label='p'))"
   ]
  },
  {
   "cell_type": "code",
   "execution_count": 178,
   "id": "c69704fa",
   "metadata": {},
   "outputs": [],
   "source": [
    "weiner_results, _, _, _ = EvaluateModel.rec_results(clf, X_test, y_test, weiner_results)"
   ]
  },
  {
   "cell_type": "code",
   "execution_count": 179,
   "id": "8684a641",
   "metadata": {},
   "outputs": [],
   "source": [
    "weiner_results = weiner_results.rename(columns={'Pred':'RF_pred'})"
   ]
  },
  {
   "cell_type": "markdown",
   "id": "36adad05",
   "metadata": {},
   "source": [
    "## SVM"
   ]
  },
  {
   "cell_type": "code",
   "execution_count": 180,
   "id": "3f771dfc",
   "metadata": {},
   "outputs": [],
   "source": [
    "clf = pickle.load(open('SVM2.sav', 'rb'))"
   ]
  },
  {
   "cell_type": "code",
   "execution_count": 181,
   "id": "1d5d201b",
   "metadata": {},
   "outputs": [],
   "source": [
    "y_pred=clf.predict(X_test)"
   ]
  },
  {
   "cell_type": "code",
   "execution_count": 182,
   "id": "b1126549",
   "metadata": {},
   "outputs": [
    {
     "name": "stdout",
     "output_type": "stream",
     "text": [
      "Accuracy: 0.5606060606060606\n"
     ]
    }
   ],
   "source": [
    "print(\"Accuracy:\", metrics.accuracy_score(y_test, y_pred))"
   ]
  },
  {
   "cell_type": "code",
   "execution_count": 183,
   "id": "8fe22eb1",
   "metadata": {},
   "outputs": [
    {
     "name": "stdout",
     "output_type": "stream",
     "text": [
      "[[ 9 21]\n",
      " [ 8 28]]\n"
     ]
    }
   ],
   "source": [
    "print(metrics.confusion_matrix(y_test, y_pred))"
   ]
  },
  {
   "cell_type": "code",
   "execution_count": 184,
   "id": "e6c652f5",
   "metadata": {},
   "outputs": [
    {
     "name": "stdout",
     "output_type": "stream",
     "text": [
      "precision - 0.5714285714285714\n",
      "recall - 0.7777777777777778\n"
     ]
    }
   ],
   "source": [
    "print('precision -', metrics.precision_score(y_test, y_pred, pos_label='p'))\n",
    "print('recall -', metrics.recall_score(y_test, y_pred, pos_label='p'))"
   ]
  },
  {
   "cell_type": "code",
   "execution_count": 185,
   "id": "18ea4cfd",
   "metadata": {},
   "outputs": [],
   "source": [
    "weiner_results, _, _, _ = EvaluateModel.rec_results(clf, X_test, y_test, weiner_results)"
   ]
  },
  {
   "cell_type": "code",
   "execution_count": 186,
   "id": "74bf1902",
   "metadata": {},
   "outputs": [],
   "source": [
    "weiner_results = weiner_results.rename(columns={'Pred':'SVM_pred'})"
   ]
  },
  {
   "cell_type": "markdown",
   "id": "e6bf2361",
   "metadata": {},
   "source": [
    "## Logistic Regression"
   ]
  },
  {
   "cell_type": "code",
   "execution_count": 187,
   "id": "d271e364",
   "metadata": {},
   "outputs": [],
   "source": [
    "clf = pickle.load(open('LR2.sav', 'rb'))"
   ]
  },
  {
   "cell_type": "code",
   "execution_count": 188,
   "id": "89dd9595",
   "metadata": {},
   "outputs": [],
   "source": [
    "y_pred=clf.predict(X_test)"
   ]
  },
  {
   "cell_type": "code",
   "execution_count": 189,
   "id": "9516f25d",
   "metadata": {},
   "outputs": [
    {
     "name": "stdout",
     "output_type": "stream",
     "text": [
      "Accuracy: 0.5151515151515151\n"
     ]
    }
   ],
   "source": [
    "print(\"Accuracy:\", metrics.accuracy_score(y_test, y_pred))"
   ]
  },
  {
   "cell_type": "code",
   "execution_count": 190,
   "id": "ef98a5b1",
   "metadata": {},
   "outputs": [
    {
     "name": "stdout",
     "output_type": "stream",
     "text": [
      "[[ 4 26]\n",
      " [ 6 30]]\n"
     ]
    }
   ],
   "source": [
    "print(metrics.confusion_matrix(y_test, y_pred))"
   ]
  },
  {
   "cell_type": "code",
   "execution_count": 191,
   "id": "04437b17",
   "metadata": {},
   "outputs": [
    {
     "name": "stdout",
     "output_type": "stream",
     "text": [
      "precision - 0.5357142857142857\n",
      "recall - 0.8333333333333334\n"
     ]
    }
   ],
   "source": [
    "print('precision -', metrics.precision_score(y_test, y_pred, pos_label='p'))\n",
    "print('recall -', metrics.recall_score(y_test, y_pred, pos_label='p'))"
   ]
  },
  {
   "cell_type": "code",
   "execution_count": 192,
   "id": "489fccdc",
   "metadata": {},
   "outputs": [],
   "source": [
    "weiner_results, _, _, _ = EvaluateModel.rec_results(clf, X_test, y_test, weiner_results)"
   ]
  },
  {
   "cell_type": "code",
   "execution_count": 193,
   "id": "fa8ee364",
   "metadata": {},
   "outputs": [],
   "source": [
    "weiner_results = weiner_results.rename(columns={'Pred':'LR_pred'})"
   ]
  },
  {
   "cell_type": "markdown",
   "id": "4a1ea3e1",
   "metadata": {},
   "source": [
    "# Apply Wavelet"
   ]
  },
  {
   "cell_type": "code",
   "execution_count": 194,
   "id": "2dfee5ac",
   "metadata": {},
   "outputs": [],
   "source": [
    "import pywt\n",
    "import numpy as np"
   ]
  },
  {
   "cell_type": "code",
   "execution_count": 195,
   "id": "a7d723dd",
   "metadata": {},
   "outputs": [],
   "source": [
    "def madev(d, axis=None):\n",
    "    \"\"\" Mean absolute deviation of a signal \"\"\"\n",
    "    return np.mean(np.absolute(d - np.mean(d, axis)), axis)\n",
    "\n",
    "def wavelet_denoising(x, wavelet, level, mode):\n",
    "    coeff = pywt.wavedec(x, wavelet, mode=\"per\")\n",
    "    sigma = (1/0.6745) * madev(coeff[-level])\n",
    "    uthresh = sigma * np.sqrt(2 * np.log(len(x)))\n",
    "    coeff[1:] = (pywt.threshold(i, value=uthresh, mode=mode) for i in coeff[1:])\n",
    "    return pywt.waverec(coeff, wavelet, mode='per')"
   ]
  },
  {
   "cell_type": "code",
   "execution_count": 196,
   "id": "24d41ec7",
   "metadata": {},
   "outputs": [],
   "source": [
    "save_dir = 'WaveletTestSet//'"
   ]
  },
  {
   "cell_type": "code",
   "execution_count": 197,
   "id": "d486801f",
   "metadata": {},
   "outputs": [],
   "source": [
    "for file in os.listdir(noisy_dir):\n",
    "    if file.endswith('.wav'):\n",
    "        file_path = noisy_dir+file\n",
    "        signal, sr = librosa.load(file_path)\n",
    "        clean_signal = wavelet_denoising(signal, wavelet='bior3.9', level=1, mode='hard')\n",
    "        \n",
    "        clean_signal = preprocessing.endpoint_detection(clean_signal)\n",
    "        clean_signal = preprocessing.normalization(clean_signal)\n",
    "        \n",
    "        file_save_path = save_dir+file\n",
    "        soundfile.write(file_save_path, clean_signal, sr)"
   ]
  },
  {
   "cell_type": "markdown",
   "id": "4acb874f",
   "metadata": {},
   "source": [
    "## Evaluate on Wavelet"
   ]
  },
  {
   "cell_type": "code",
   "execution_count": 198,
   "id": "60621678",
   "metadata": {},
   "outputs": [],
   "source": [
    "noisy_path = 'WaveletTestSet//'"
   ]
  },
  {
   "cell_type": "code",
   "execution_count": 199,
   "id": "f583ef44",
   "metadata": {},
   "outputs": [],
   "source": [
    "noisy_df = extract_feature_df(noisy_path) \n",
    "noisy_df = noisy_df.drop(['Median pitch', 'Mean pitch', 'Minimum pitch', 'Maximum pitch'], axis=1)"
   ]
  },
  {
   "cell_type": "code",
   "execution_count": 200,
   "id": "03ad3874",
   "metadata": {},
   "outputs": [
    {
     "data": {
      "text/plain": [
       "(69, 23)"
      ]
     },
     "execution_count": 200,
     "metadata": {},
     "output_type": "execute_result"
    }
   ],
   "source": [
    "noisy_df.shape"
   ]
  },
  {
   "cell_type": "code",
   "execution_count": 201,
   "id": "7a9720af",
   "metadata": {},
   "outputs": [],
   "source": [
    "test_meta = pd.read_csv('testSet.csv', index_col=0)\n",
    "\n",
    "noisy_df[['RecordingID', 'RestOfName']] = noisy_df['name'].str.split('-',expand=True)\n",
    "noisy_df['Sound'] = noisy_df['RestOfName'].str.split('_',expand=True)[0]\n",
    "noisy_df['RecordingID'] = noisy_df['RecordingID'].astype('int')\n",
    "\n",
    "noisy_df = noisy_df.drop('name', axis=1)\n",
    "noisy_df = noisy_df.drop('RestOfName', axis=1)\n",
    "noisy_df = noisy_df.reset_index(drop=True)\n",
    "\n",
    "noisy_df = pd.merge(noisy_df, test_meta, how='left', on = 'RecordingID')"
   ]
  },
  {
   "cell_type": "code",
   "execution_count": 202,
   "id": "40104025",
   "metadata": {},
   "outputs": [],
   "source": [
    "X_test = noisy_df.drop(['RecordingID', 'Sound', 'Type', 'Date', 'SubjectID', 'Sex', 'Age', 'Pathology'], axis=1)\n",
    "y_test = noisy_df['Type']"
   ]
  },
  {
   "cell_type": "code",
   "execution_count": 203,
   "id": "56b15ee9",
   "metadata": {},
   "outputs": [],
   "source": [
    "X_test = X_test.dropna()"
   ]
  },
  {
   "cell_type": "code",
   "execution_count": 204,
   "id": "c0a973fa",
   "metadata": {},
   "outputs": [],
   "source": [
    "df_index = X_test.index.values.tolist()\n",
    "y_test = y_test.iloc[df_index]"
   ]
  },
  {
   "cell_type": "code",
   "execution_count": 205,
   "id": "d8202133",
   "metadata": {},
   "outputs": [
    {
     "name": "stdout",
     "output_type": "stream",
     "text": [
      "(65, 22)\n",
      "(65,)\n"
     ]
    }
   ],
   "source": [
    "print(X_test.shape)\n",
    "print(y_test.shape)"
   ]
  },
  {
   "cell_type": "code",
   "execution_count": 206,
   "id": "eabdade3",
   "metadata": {},
   "outputs": [],
   "source": [
    "wavelet_results = noisy_df[['RecordingID', 'Sound', 'Type', 'Date', 'SubjectID', 'Sex', 'Age', 'Pathology']].copy()"
   ]
  },
  {
   "cell_type": "markdown",
   "id": "3250d918",
   "metadata": {},
   "source": [
    "## Decision Tree"
   ]
  },
  {
   "cell_type": "code",
   "execution_count": 207,
   "id": "564f635f",
   "metadata": {},
   "outputs": [],
   "source": [
    "clf = pickle.load(open('DT2.sav', 'rb'))"
   ]
  },
  {
   "cell_type": "code",
   "execution_count": 208,
   "id": "b2d3dbf5",
   "metadata": {},
   "outputs": [],
   "source": [
    "y_pred=clf.predict(X_test)"
   ]
  },
  {
   "cell_type": "code",
   "execution_count": 209,
   "id": "56907d6a",
   "metadata": {},
   "outputs": [
    {
     "name": "stdout",
     "output_type": "stream",
     "text": [
      "Accuracy: 0.6153846153846154\n"
     ]
    }
   ],
   "source": [
    "print(\"Accuracy:\", metrics.accuracy_score(y_test, y_pred))"
   ]
  },
  {
   "cell_type": "code",
   "execution_count": 210,
   "id": "5f205fd3",
   "metadata": {},
   "outputs": [
    {
     "name": "stdout",
     "output_type": "stream",
     "text": [
      "[[ 9 21]\n",
      " [ 4 31]]\n"
     ]
    }
   ],
   "source": [
    "print(metrics.confusion_matrix(y_test, y_pred))"
   ]
  },
  {
   "cell_type": "code",
   "execution_count": 211,
   "id": "0d9ca011",
   "metadata": {},
   "outputs": [
    {
     "name": "stdout",
     "output_type": "stream",
     "text": [
      "precision - 0.5961538461538461\n",
      "recall - 0.8857142857142857\n"
     ]
    }
   ],
   "source": [
    "print('precision -', metrics.precision_score(y_test, y_pred, pos_label='p'))\n",
    "print('recall -', metrics.recall_score(y_test, y_pred, pos_label='p'))"
   ]
  },
  {
   "cell_type": "code",
   "execution_count": 212,
   "id": "14669011",
   "metadata": {},
   "outputs": [],
   "source": [
    "wavelet_results, _, _, _ = EvaluateModel.rec_results(clf, X_test, y_test, wavelet_results)"
   ]
  },
  {
   "cell_type": "code",
   "execution_count": 213,
   "id": "1972efdd",
   "metadata": {},
   "outputs": [],
   "source": [
    "wavelet_results = wavelet_results.rename(columns={'Pred':'DT_pred'})"
   ]
  },
  {
   "cell_type": "markdown",
   "id": "1f2f326e",
   "metadata": {},
   "source": [
    "## Random Forest"
   ]
  },
  {
   "cell_type": "code",
   "execution_count": 214,
   "id": "7cd49a0f",
   "metadata": {},
   "outputs": [],
   "source": [
    "clf = pickle.load(open('RF2.sav', 'rb'))"
   ]
  },
  {
   "cell_type": "code",
   "execution_count": 215,
   "id": "f067f94e",
   "metadata": {},
   "outputs": [],
   "source": [
    "y_pred=clf.predict(X_test)"
   ]
  },
  {
   "cell_type": "code",
   "execution_count": 216,
   "id": "50ede860",
   "metadata": {},
   "outputs": [
    {
     "name": "stdout",
     "output_type": "stream",
     "text": [
      "Accuracy: 0.7230769230769231\n"
     ]
    }
   ],
   "source": [
    "print(\"Accuracy:\", metrics.accuracy_score(y_test, y_pred))"
   ]
  },
  {
   "cell_type": "code",
   "execution_count": 217,
   "id": "74523890",
   "metadata": {},
   "outputs": [
    {
     "name": "stdout",
     "output_type": "stream",
     "text": [
      "[[13 17]\n",
      " [ 1 34]]\n"
     ]
    }
   ],
   "source": [
    "print(metrics.confusion_matrix(y_test, y_pred))"
   ]
  },
  {
   "cell_type": "code",
   "execution_count": 218,
   "id": "ddd5a4f5",
   "metadata": {},
   "outputs": [
    {
     "name": "stdout",
     "output_type": "stream",
     "text": [
      "precision - 0.6666666666666666\n",
      "recall - 0.9714285714285714\n"
     ]
    }
   ],
   "source": [
    "print('precision -', metrics.precision_score(y_test, y_pred, pos_label='p'))\n",
    "print('recall -', metrics.recall_score(y_test, y_pred, pos_label='p'))"
   ]
  },
  {
   "cell_type": "code",
   "execution_count": 219,
   "id": "2573a9af",
   "metadata": {},
   "outputs": [],
   "source": [
    "wavelet_results, _, _, _ = EvaluateModel.rec_results(clf, X_test, y_test, wavelet_results)"
   ]
  },
  {
   "cell_type": "code",
   "execution_count": 220,
   "id": "ff3c6912",
   "metadata": {},
   "outputs": [],
   "source": [
    "wavelet_results = wavelet_results.rename(columns={'Pred':'RF_pred'})"
   ]
  },
  {
   "cell_type": "markdown",
   "id": "7f33adba",
   "metadata": {},
   "source": [
    "## SVM"
   ]
  },
  {
   "cell_type": "code",
   "execution_count": 221,
   "id": "dfccb020",
   "metadata": {},
   "outputs": [],
   "source": [
    "clf = pickle.load(open('SVM2.sav', 'rb'))"
   ]
  },
  {
   "cell_type": "code",
   "execution_count": 222,
   "id": "aa06750b",
   "metadata": {},
   "outputs": [],
   "source": [
    "y_pred=clf.predict(X_test)"
   ]
  },
  {
   "cell_type": "code",
   "execution_count": 223,
   "id": "6a3ae3c2",
   "metadata": {},
   "outputs": [
    {
     "name": "stdout",
     "output_type": "stream",
     "text": [
      "Accuracy: 0.47692307692307695\n"
     ]
    }
   ],
   "source": [
    "print(\"Accuracy:\", metrics.accuracy_score(y_test, y_pred))"
   ]
  },
  {
   "cell_type": "code",
   "execution_count": 224,
   "id": "2a7e4562",
   "metadata": {},
   "outputs": [
    {
     "name": "stdout",
     "output_type": "stream",
     "text": [
      "[[ 5 25]\n",
      " [ 9 26]]\n"
     ]
    }
   ],
   "source": [
    "print(metrics.confusion_matrix(y_test, y_pred))"
   ]
  },
  {
   "cell_type": "code",
   "execution_count": 225,
   "id": "82084a8e",
   "metadata": {},
   "outputs": [
    {
     "name": "stdout",
     "output_type": "stream",
     "text": [
      "precision - 0.5098039215686274\n",
      "recall - 0.7428571428571429\n"
     ]
    }
   ],
   "source": [
    "print('precision -', metrics.precision_score(y_test, y_pred, pos_label='p'))\n",
    "print('recall -', metrics.recall_score(y_test, y_pred, pos_label='p'))"
   ]
  },
  {
   "cell_type": "code",
   "execution_count": 226,
   "id": "677ab374",
   "metadata": {},
   "outputs": [],
   "source": [
    "wavelet_results, _, _, _ = EvaluateModel.rec_results(clf, X_test, y_test, wavelet_results)"
   ]
  },
  {
   "cell_type": "code",
   "execution_count": 227,
   "id": "a5be327c",
   "metadata": {},
   "outputs": [],
   "source": [
    "wavelet_results = wavelet_results.rename(columns={'Pred':'SVM_pred'})"
   ]
  },
  {
   "cell_type": "markdown",
   "id": "cdce9ae1",
   "metadata": {},
   "source": [
    "## Logistic Regression"
   ]
  },
  {
   "cell_type": "code",
   "execution_count": 228,
   "id": "5129a9a7",
   "metadata": {},
   "outputs": [],
   "source": [
    "clf = pickle.load(open('LR2.sav', 'rb'))"
   ]
  },
  {
   "cell_type": "code",
   "execution_count": 229,
   "id": "3020d2f0",
   "metadata": {},
   "outputs": [],
   "source": [
    "y_pred=clf.predict(X_test)"
   ]
  },
  {
   "cell_type": "code",
   "execution_count": 230,
   "id": "9d305a6e",
   "metadata": {},
   "outputs": [
    {
     "name": "stdout",
     "output_type": "stream",
     "text": [
      "Accuracy: 0.5692307692307692\n"
     ]
    }
   ],
   "source": [
    "print(\"Accuracy:\", metrics.accuracy_score(y_test, y_pred))"
   ]
  },
  {
   "cell_type": "code",
   "execution_count": 231,
   "id": "a4446380",
   "metadata": {},
   "outputs": [
    {
     "name": "stdout",
     "output_type": "stream",
     "text": [
      "[[ 5 25]\n",
      " [ 3 32]]\n"
     ]
    }
   ],
   "source": [
    "print(metrics.confusion_matrix(y_test, y_pred))"
   ]
  },
  {
   "cell_type": "code",
   "execution_count": 232,
   "id": "2e04742a",
   "metadata": {},
   "outputs": [
    {
     "name": "stdout",
     "output_type": "stream",
     "text": [
      "precision - 0.5614035087719298\n",
      "recall - 0.9142857142857143\n"
     ]
    }
   ],
   "source": [
    "print('precision -', metrics.precision_score(y_test, y_pred, pos_label='p'))\n",
    "print('recall -', metrics.recall_score(y_test, y_pred, pos_label='p'))"
   ]
  },
  {
   "cell_type": "code",
   "execution_count": 233,
   "id": "e0913ded",
   "metadata": {},
   "outputs": [],
   "source": [
    "wavelet_results, _, _, _ = EvaluateModel.rec_results(clf, X_test, y_test, wavelet_results)"
   ]
  },
  {
   "cell_type": "code",
   "execution_count": 234,
   "id": "41cff7ce",
   "metadata": {},
   "outputs": [],
   "source": [
    "wavelet_results = wavelet_results.rename(columns={'Pred':'LR_pred'})"
   ]
  },
  {
   "cell_type": "markdown",
   "id": "12fda45d",
   "metadata": {},
   "source": [
    "# Save Results"
   ]
  },
  {
   "cell_type": "code",
   "execution_count": 235,
   "id": "4d0c4737",
   "metadata": {},
   "outputs": [],
   "source": [
    "results.to_csv('results2.csv')"
   ]
  },
  {
   "cell_type": "code",
   "execution_count": 236,
   "id": "80f4732a",
   "metadata": {},
   "outputs": [],
   "source": [
    "noisy_results.to_csv('noisy_results2.csv')"
   ]
  },
  {
   "cell_type": "code",
   "execution_count": 237,
   "id": "63c33eb4",
   "metadata": {},
   "outputs": [],
   "source": [
    "bandpass_results.to_csv('bandpass_results2.csv')"
   ]
  },
  {
   "cell_type": "code",
   "execution_count": 238,
   "id": "5cdb0746",
   "metadata": {},
   "outputs": [],
   "source": [
    "weiner_results.to_csv('weiner_results2.csv')"
   ]
  },
  {
   "cell_type": "code",
   "execution_count": 239,
   "id": "2563847d",
   "metadata": {},
   "outputs": [],
   "source": [
    "wavelet_results.to_csv('wavelet_results2.csv')"
   ]
  },
  {
   "cell_type": "code",
   "execution_count": null,
   "id": "b2bc7f54",
   "metadata": {},
   "outputs": [],
   "source": []
  }
 ],
 "metadata": {
  "kernelspec": {
   "display_name": "Python 3 (ipykernel)",
   "language": "python",
   "name": "python3"
  },
  "language_info": {
   "codemirror_mode": {
    "name": "ipython",
    "version": 3
   },
   "file_extension": ".py",
   "mimetype": "text/x-python",
   "name": "python",
   "nbconvert_exporter": "python",
   "pygments_lexer": "ipython3",
   "version": "3.9.16"
  }
 },
 "nbformat": 4,
 "nbformat_minor": 5
}
